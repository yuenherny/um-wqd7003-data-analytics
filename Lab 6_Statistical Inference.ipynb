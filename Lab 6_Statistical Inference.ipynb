{
 "cells": [
  {
   "cell_type": "markdown",
   "metadata": {
    "id": "cr89eYNn-9PE"
   },
   "source": [
    "# Best view using google colab."
   ]
  },
  {
   "cell_type": "markdown",
   "metadata": {
    "id": "DTmjgbvlezfg"
   },
   "source": [
    "# Exercise 1 - One Sample T test\n",
    "1. Download Lab6_Energy Data from Spectrum\n",
    "2. It contains data related to energy consumption in an IoT scenario when different devices are using energy. \n",
    "3. Perform T-test (one sample t test)\n",
    "4. Interpret results as it relates to your hypothesis? \n"
   ]
  },
  {
   "cell_type": "code",
   "execution_count": 1,
   "metadata": {
    "id": "blMnih-ce9NQ"
   },
   "outputs": [],
   "source": [
    "# import your code using pandas \n"
   ]
  },
  {
   "cell_type": "code",
   "execution_count": 4,
   "metadata": {
    "cellView": "form",
    "id": "dMlWFytafAFW"
   },
   "outputs": [
    {
     "data": {
      "text/html": [
       "<div>\n",
       "<style scoped>\n",
       "    .dataframe tbody tr th:only-of-type {\n",
       "        vertical-align: middle;\n",
       "    }\n",
       "\n",
       "    .dataframe tbody tr th {\n",
       "        vertical-align: top;\n",
       "    }\n",
       "\n",
       "    .dataframe thead th {\n",
       "        text-align: right;\n",
       "    }\n",
       "</style>\n",
       "<table border=\"1\" class=\"dataframe\">\n",
       "  <thead>\n",
       "    <tr style=\"text-align: right;\">\n",
       "      <th></th>\n",
       "      <th>Interval  of Traffic</th>\n",
       "      <th>DNC</th>\n",
       "      <th>SLA</th>\n",
       "      <th>Hy-IoT</th>\n",
       "      <th>QCM</th>\n",
       "    </tr>\n",
       "  </thead>\n",
       "  <tbody>\n",
       "    <tr>\n",
       "      <th>0</th>\n",
       "      <td>1</td>\n",
       "      <td>7.0</td>\n",
       "      <td>5.0</td>\n",
       "      <td>4.0</td>\n",
       "      <td>2.0</td>\n",
       "    </tr>\n",
       "    <tr>\n",
       "      <th>1</th>\n",
       "      <td>2</td>\n",
       "      <td>11.0</td>\n",
       "      <td>9.0</td>\n",
       "      <td>6.0</td>\n",
       "      <td>3.0</td>\n",
       "    </tr>\n",
       "    <tr>\n",
       "      <th>2</th>\n",
       "      <td>3</td>\n",
       "      <td>15.0</td>\n",
       "      <td>13.0</td>\n",
       "      <td>8.0</td>\n",
       "      <td>4.0</td>\n",
       "    </tr>\n",
       "    <tr>\n",
       "      <th>3</th>\n",
       "      <td>4</td>\n",
       "      <td>18.0</td>\n",
       "      <td>15.5</td>\n",
       "      <td>10.0</td>\n",
       "      <td>5.0</td>\n",
       "    </tr>\n",
       "    <tr>\n",
       "      <th>4</th>\n",
       "      <td>5</td>\n",
       "      <td>21.0</td>\n",
       "      <td>18.0</td>\n",
       "      <td>13.0</td>\n",
       "      <td>6.0</td>\n",
       "    </tr>\n",
       "    <tr>\n",
       "      <th>5</th>\n",
       "      <td>6</td>\n",
       "      <td>25.0</td>\n",
       "      <td>21.0</td>\n",
       "      <td>15.0</td>\n",
       "      <td>7.0</td>\n",
       "    </tr>\n",
       "    <tr>\n",
       "      <th>6</th>\n",
       "      <td>7</td>\n",
       "      <td>28.0</td>\n",
       "      <td>24.0</td>\n",
       "      <td>18.5</td>\n",
       "      <td>8.5</td>\n",
       "    </tr>\n",
       "    <tr>\n",
       "      <th>7</th>\n",
       "      <td>8</td>\n",
       "      <td>32.5</td>\n",
       "      <td>26.5</td>\n",
       "      <td>21.6</td>\n",
       "      <td>10.5</td>\n",
       "    </tr>\n",
       "    <tr>\n",
       "      <th>8</th>\n",
       "      <td>9</td>\n",
       "      <td>36.0</td>\n",
       "      <td>29.0</td>\n",
       "      <td>24.0</td>\n",
       "      <td>11.5</td>\n",
       "    </tr>\n",
       "    <tr>\n",
       "      <th>9</th>\n",
       "      <td>10</td>\n",
       "      <td>39.0</td>\n",
       "      <td>30.5</td>\n",
       "      <td>26.0</td>\n",
       "      <td>12.5</td>\n",
       "    </tr>\n",
       "  </tbody>\n",
       "</table>\n",
       "</div>"
      ],
      "text/plain": [
       "   Interval  of Traffic   DNC   SLA  Hy-IoT   QCM\n",
       "0                     1   7.0   5.0     4.0   2.0\n",
       "1                     2  11.0   9.0     6.0   3.0\n",
       "2                     3  15.0  13.0     8.0   4.0\n",
       "3                     4  18.0  15.5    10.0   5.0\n",
       "4                     5  21.0  18.0    13.0   6.0\n",
       "5                     6  25.0  21.0    15.0   7.0\n",
       "6                     7  28.0  24.0    18.5   8.5\n",
       "7                     8  32.5  26.5    21.6  10.5\n",
       "8                     9  36.0  29.0    24.0  11.5\n",
       "9                    10  39.0  30.5    26.0  12.5"
      ]
     },
     "execution_count": 4,
     "metadata": {},
     "output_type": "execute_result"
    }
   ],
   "source": [
    "#@title Solution\n",
    "import pandas as pd\n",
    "# Read file using pandas\n",
    "df = pd.read_excel('dataset/Lab6_Energy Data.xlsx')\n",
    "df"
   ]
  },
  {
   "cell_type": "markdown",
   "metadata": {
    "id": "jXCBrFRyfqHh"
   },
   "source": [
    "## Perform T-test (one sample t test) : <br>\n",
    "Null Hypothesis: The sample mean of Hy-IoT is same as population mean of 21. \n",
    "Hint: use scipy.stat"
   ]
  },
  {
   "cell_type": "code",
   "execution_count": null,
   "metadata": {
    "id": "GQa_x7yOe5rE"
   },
   "outputs": [],
   "source": [
    "# your code and answer here\n"
   ]
  },
  {
   "cell_type": "code",
   "execution_count": null,
   "metadata": {
    "cellView": "form",
    "id": "fjiQRXi5fIUk"
   },
   "outputs": [],
   "source": [
    "#@title Solution\n",
    "from scipy.stats import ttest_1samp\n",
    "\n",
    "a = df['Hy-IoT']\n",
    "b = 21\n",
    "t, p = ttest_1samp(a, b)\n",
    "print('t-statistic: ', t)\n",
    "print('p-value: ', p)\n",
    "print('p-value is less than 0.05, reject null hypothesis')\n",
    "print('Conclusion: There is a significant different between sample mean and population mean in Hy-IoT')"
   ]
  },
  {
   "cell_type": "markdown",
   "metadata": {
    "id": "PJvKomoLhLL3"
   },
   "source": [
    "## Perform T-test (one sample t test) : <br>\n",
    "Null Hypothesis: The mean of DNC is same as population mean of 23.5. \n",
    "Hint: use scipy.stat"
   ]
  },
  {
   "cell_type": "code",
   "execution_count": null,
   "metadata": {
    "id": "PlxTwtUrhVP_"
   },
   "outputs": [],
   "source": [
    "# your code and answer here\n"
   ]
  },
  {
   "cell_type": "code",
   "execution_count": null,
   "metadata": {
    "cellView": "form",
    "id": "G5dG_XQ-haAF"
   },
   "outputs": [],
   "source": [
    "#@title Solution\n",
    "from scipy.stats import ttest_1samp\n",
    "\n",
    "a = df['DNC']\n",
    "b = 23.5\n",
    "t, p = ttest_1samp(a, b)\n",
    "print('t-statistic: ', t)\n",
    "print('p-value: ', p)\n",
    "print('p-value is larger than 0.05, do not reject null hypothesis')\n",
    "print('Conclusion: There is no significant different between sample mean and population mean in DNC')"
   ]
  },
  {
   "cell_type": "markdown",
   "metadata": {
    "id": "Ge1t2A-BhjMT"
   },
   "source": [
    "## Perform T-test (one sample t test) : <br>\n",
    "Null Hypothesis: The mean of SLA is same as population mean of 20. \n",
    "Hint: use scipy.stat\n"
   ]
  },
  {
   "cell_type": "code",
   "execution_count": null,
   "metadata": {
    "id": "yUaIP9iQuyWl"
   },
   "outputs": [],
   "source": [
    "# your code and answer here\n"
   ]
  },
  {
   "cell_type": "code",
   "execution_count": null,
   "metadata": {
    "cellView": "form",
    "id": "KdeiVoi2hq-H"
   },
   "outputs": [],
   "source": [
    "#@title Solution\n",
    "from scipy.stats import ttest_1samp\n",
    "\n",
    "a = df['SLA']\n",
    "b = 20\n",
    "t, p = ttest_1samp(a, b)\n",
    "print('t-statistic: ', t)\n",
    "print('p-value: ', p)\n",
    "print('p-value is larger than 0.05, do not reject null hypothesis')\n",
    "print('Conclusion: There is no significant different between sample mean and population mean in SLA')"
   ]
  },
  {
   "cell_type": "markdown",
   "metadata": {
    "id": "GQNiK6iJwioZ"
   },
   "source": [
    "# Exercise 2 - Dependent T test\n",
    "1. Download Lab6_Energy_data.xlsx from Spectrum\n",
    "2. It contains data related to energy consumption in an IoT scenario when different devices are using energy. \n",
    "3. Let's suppose our hypothesis is that energy consumption of all algorithm is same (mean is zero). \n",
    "4. Perform T-test (paired sample) on the following algorithms: <br>\n",
    "(i) Hy-IoT and QCM <br>\n",
    "(ii) DNC and SLA <br> \n",
    "(iii) SLA and Hy-IoT\n",
    "5. Interpret results as it relates to your hypothesis? \n",
    "Hint: You can use scipy.stats library\n",
    "\n",
    "*disclaimer: this test is just to learn the usage of dependent t test in scipy*"
   ]
  },
  {
   "cell_type": "code",
   "execution_count": null,
   "metadata": {
    "id": "7KD5QHwcwtCq"
   },
   "outputs": [],
   "source": [
    "# your code below\n",
    "# first, import data \n",
    "# perform pair t-test for item 4. \n",
    "# interpret each of them\n"
   ]
  },
  {
   "cell_type": "code",
   "execution_count": 2,
   "metadata": {
    "cellView": "form",
    "colab": {
     "base_uri": "https://localhost:8080/"
    },
    "id": "Qoszknfcudpm",
    "outputId": "ba3414be-0bb5-4292-8501-b439e19fd211"
   },
   "outputs": [
    {
     "name": "stdout",
     "output_type": "stream",
     "text": [
      "t-statistic:  5.902772998995711\n",
      "p-value:  0.00022828545605567077\n",
      "p-value is less than 0.05, reject null hypothesis\n",
      "Conclusion: There is a significant different between sample mean and population mean in SLA\n"
     ]
    }
   ],
   "source": [
    "#@title Solution\n",
    "import pandas as pd\n",
    "from scipy.stats import ttest_rel\n",
    "\n",
    "import pandas as pd\n",
    "# Read file using pandas\n",
    "df = pd.read_excel('/content/Lab6_Energy Data.xlsx')\n",
    "\n",
    "a = df['Hy-IoT']\n",
    "b = df['QCM']\n",
    "t, p = ttest_rel(a, b)\n",
    "print('t-statistic: ', t)\n",
    "print('p-value: ', p)\n",
    "print('p-value is less than 0.05, reject null hypothesis')\n",
    "print('Conclusion: There is a significant different in mean between Hy-IoT and QCM')"
   ]
  },
  {
   "cell_type": "markdown",
   "metadata": {
    "id": "TlL21O0ExzGG"
   },
   "source": [
    "# Exercise 3 - Chi Square Test\n",
    "1. Download Lab8_Excercise_data.csv from Spectrum\n",
    "2. It contains data related to weather information in deciding whether a child should play outdoor or not. \n",
    "3. Let's suppose our null hypothesis is two categorical features are NOT independant of each other. \n",
    "4. Perform Chi Square test to determine the relationship between two categorical features. <br>\n",
    "(i) windy vs play <br>\n",
    "(ii) outlook vs temperature <br>\n",
    "(iii) temperature vs windy <br>\n",
    "(iv) humidity vs temperature <br>\n",
    "4. Interpret your results. \n"
   ]
  },
  {
   "cell_type": "code",
   "execution_count": 5,
   "metadata": {
    "id": "y0wL_T9sxyhn"
   },
   "outputs": [],
   "source": [
    "import pandas as pd\n",
    "# Read file using pandas\n",
    "df = pd.read_csv('/content/Lab6_Exercise Data.csv')"
   ]
  },
  {
   "cell_type": "code",
   "execution_count": 7,
   "metadata": {
    "colab": {
     "base_uri": "https://localhost:8080/",
     "height": 143
    },
    "id": "d5sfHQlKyAie",
    "outputId": "33e2768f-4990-47ea-ac24-510c95496316"
   },
   "outputs": [
    {
     "data": {
      "text/html": [
       "\n",
       "  <div id=\"df-92f9c56b-a511-4c31-adbb-521747e1e053\">\n",
       "    <div class=\"colab-df-container\">\n",
       "      <div>\n",
       "<style scoped>\n",
       "    .dataframe tbody tr th:only-of-type {\n",
       "        vertical-align: middle;\n",
       "    }\n",
       "\n",
       "    .dataframe tbody tr th {\n",
       "        vertical-align: top;\n",
       "    }\n",
       "\n",
       "    .dataframe thead th {\n",
       "        text-align: right;\n",
       "    }\n",
       "</style>\n",
       "<table border=\"1\" class=\"dataframe\">\n",
       "  <thead>\n",
       "    <tr style=\"text-align: right;\">\n",
       "      <th>play</th>\n",
       "      <th>no</th>\n",
       "      <th>yes</th>\n",
       "    </tr>\n",
       "    <tr>\n",
       "      <th>windy</th>\n",
       "      <th></th>\n",
       "      <th></th>\n",
       "    </tr>\n",
       "  </thead>\n",
       "  <tbody>\n",
       "    <tr>\n",
       "      <th>False</th>\n",
       "      <td>2</td>\n",
       "      <td>7</td>\n",
       "    </tr>\n",
       "    <tr>\n",
       "      <th>True</th>\n",
       "      <td>4</td>\n",
       "      <td>3</td>\n",
       "    </tr>\n",
       "  </tbody>\n",
       "</table>\n",
       "</div>\n",
       "      <button class=\"colab-df-convert\" onclick=\"convertToInteractive('df-92f9c56b-a511-4c31-adbb-521747e1e053')\"\n",
       "              title=\"Convert this dataframe to an interactive table.\"\n",
       "              style=\"display:none;\">\n",
       "        \n",
       "  <svg xmlns=\"http://www.w3.org/2000/svg\" height=\"24px\"viewBox=\"0 0 24 24\"\n",
       "       width=\"24px\">\n",
       "    <path d=\"M0 0h24v24H0V0z\" fill=\"none\"/>\n",
       "    <path d=\"M18.56 5.44l.94 2.06.94-2.06 2.06-.94-2.06-.94-.94-2.06-.94 2.06-2.06.94zm-11 1L8.5 8.5l.94-2.06 2.06-.94-2.06-.94L8.5 2.5l-.94 2.06-2.06.94zm10 10l.94 2.06.94-2.06 2.06-.94-2.06-.94-.94-2.06-.94 2.06-2.06.94z\"/><path d=\"M17.41 7.96l-1.37-1.37c-.4-.4-.92-.59-1.43-.59-.52 0-1.04.2-1.43.59L10.3 9.45l-7.72 7.72c-.78.78-.78 2.05 0 2.83L4 21.41c.39.39.9.59 1.41.59.51 0 1.02-.2 1.41-.59l7.78-7.78 2.81-2.81c.8-.78.8-2.07 0-2.86zM5.41 20L4 18.59l7.72-7.72 1.47 1.35L5.41 20z\"/>\n",
       "  </svg>\n",
       "      </button>\n",
       "      \n",
       "  <style>\n",
       "    .colab-df-container {\n",
       "      display:flex;\n",
       "      flex-wrap:wrap;\n",
       "      gap: 12px;\n",
       "    }\n",
       "\n",
       "    .colab-df-convert {\n",
       "      background-color: #E8F0FE;\n",
       "      border: none;\n",
       "      border-radius: 50%;\n",
       "      cursor: pointer;\n",
       "      display: none;\n",
       "      fill: #1967D2;\n",
       "      height: 32px;\n",
       "      padding: 0 0 0 0;\n",
       "      width: 32px;\n",
       "    }\n",
       "\n",
       "    .colab-df-convert:hover {\n",
       "      background-color: #E2EBFA;\n",
       "      box-shadow: 0px 1px 2px rgba(60, 64, 67, 0.3), 0px 1px 3px 1px rgba(60, 64, 67, 0.15);\n",
       "      fill: #174EA6;\n",
       "    }\n",
       "\n",
       "    [theme=dark] .colab-df-convert {\n",
       "      background-color: #3B4455;\n",
       "      fill: #D2E3FC;\n",
       "    }\n",
       "\n",
       "    [theme=dark] .colab-df-convert:hover {\n",
       "      background-color: #434B5C;\n",
       "      box-shadow: 0px 1px 3px 1px rgba(0, 0, 0, 0.15);\n",
       "      filter: drop-shadow(0px 1px 2px rgba(0, 0, 0, 0.3));\n",
       "      fill: #FFFFFF;\n",
       "    }\n",
       "  </style>\n",
       "\n",
       "      <script>\n",
       "        const buttonEl =\n",
       "          document.querySelector('#df-92f9c56b-a511-4c31-adbb-521747e1e053 button.colab-df-convert');\n",
       "        buttonEl.style.display =\n",
       "          google.colab.kernel.accessAllowed ? 'block' : 'none';\n",
       "\n",
       "        async function convertToInteractive(key) {\n",
       "          const element = document.querySelector('#df-92f9c56b-a511-4c31-adbb-521747e1e053');\n",
       "          const dataTable =\n",
       "            await google.colab.kernel.invokeFunction('convertToInteractive',\n",
       "                                                     [key], {});\n",
       "          if (!dataTable) return;\n",
       "\n",
       "          const docLinkHtml = 'Like what you see? Visit the ' +\n",
       "            '<a target=\"_blank\" href=https://colab.research.google.com/notebooks/data_table.ipynb>data table notebook</a>'\n",
       "            + ' to learn more about interactive tables.';\n",
       "          element.innerHTML = '';\n",
       "          dataTable['output_type'] = 'display_data';\n",
       "          await google.colab.output.renderOutput(dataTable, element);\n",
       "          const docLink = document.createElement('div');\n",
       "          docLink.innerHTML = docLinkHtml;\n",
       "          element.appendChild(docLink);\n",
       "        }\n",
       "      </script>\n",
       "    </div>\n",
       "  </div>\n",
       "  "
      ],
      "text/plain": [
       "play   no  yes\n",
       "windy         \n",
       "False   2    7\n",
       "True    4    3"
      ]
     },
     "execution_count": 7,
     "metadata": {},
     "output_type": "execute_result"
    }
   ],
   "source": [
    "from scipy.stats import chi2_contingency \n",
    "\n",
    "# create contigency table for windy vs play\n",
    "info = pd.crosstab(index=df['windy'], columns=df['play'])\n",
    "info"
   ]
  },
  {
   "cell_type": "code",
   "execution_count": 8,
   "metadata": {
    "colab": {
     "base_uri": "https://localhost:8080/"
    },
    "id": "f845MsNhyMC_",
    "outputId": "c8e1934f-2be4-419d-8d35-cfa16e3bbbad"
   },
   "outputs": [
    {
     "name": "stdout",
     "output_type": "stream",
     "text": [
      "[[2, 7], [4, 3]]\n",
      "chi2 value:  0.8296296296296297\n",
      "p value:  0.3623796473157064\n",
      "dof value:  1\n",
      "windy and play are NOT independent of each other\n"
     ]
    }
   ],
   "source": [
    "# perform chi square\n",
    "print(info.values.tolist())\n",
    "chi2, p, dof, expctd = chi2_contingency(info.values.tolist())\n",
    "print('chi2 value: ', chi2)\n",
    "print('p value: ', p)\n",
    "print('dof value: ', dof)\n",
    "\n",
    "\n",
    "if p < 0.05:\n",
    "  print(\n",
    "      'windy and play are independent of each other.'\n",
    "  )\n",
    "else:\n",
    "    print(\n",
    "      'windy and play are NOT independent of each other'\n",
    "  )"
   ]
  },
  {
   "cell_type": "markdown",
   "metadata": {
    "id": "FDbU2UAmyRc4"
   },
   "source": [
    "### Now is your turn \n",
    "Perform Chi Square test to determine the relationship between two categorical features. <br>\n",
    "(ii) outlook vs temperature <br>"
   ]
  },
  {
   "cell_type": "code",
   "execution_count": null,
   "metadata": {
    "id": "H9gmCGUCyQK2"
   },
   "outputs": [],
   "source": [
    "# your code here"
   ]
  },
  {
   "cell_type": "code",
   "execution_count": null,
   "metadata": {
    "cellView": "form",
    "id": "2SqwAxRVyemh"
   },
   "outputs": [],
   "source": [
    "#@title Solution \n",
    "from scipy.stats import chi2_contingency \n",
    "\n",
    "# create contigency table for outlook vs temperature\n",
    "info = pd.crosstab(index=df['outlook'], columns=df['temperature'])\n",
    "\n",
    "# perform chi square\n",
    "print(info.values.tolist())\n",
    "chi2, p, dof, _ = chi2_contingency(info.values.tolist())\n",
    "print('chi2 value: ', chi2)\n",
    "print('p value: ', p)\n",
    "print('dof value: ', dof)\n",
    "\n",
    "\n",
    "if p < 0.05:\n",
    "  print(\n",
    "      'outlook and temperature are independent of each other.'\n",
    "  )\n",
    "else:\n",
    "    print(\n",
    "      'outlook and temperature are NOT independent of each other'\n",
    "  )"
   ]
  },
  {
   "cell_type": "markdown",
   "metadata": {
    "id": "g_9ZvbDTyj5l"
   },
   "source": [
    "# Now is your turn\n",
    "Perform Chi Square test to determine the relationship between two categorical features. <br>\n",
    "(iii) humidity vs temperature"
   ]
  },
  {
   "cell_type": "code",
   "execution_count": null,
   "metadata": {
    "id": "bxLSky31yujU"
   },
   "outputs": [],
   "source": [
    "# your code here"
   ]
  },
  {
   "cell_type": "code",
   "execution_count": null,
   "metadata": {
    "cellView": "form",
    "id": "t91wH6WhyvcC"
   },
   "outputs": [],
   "source": [
    "#@title Solution \n",
    "from scipy.stats import chi2_contingency \n",
    "\n",
    "# create contigency table for temperature vs windy\n",
    "info = pd.crosstab(index=df['temperature'], columns=df['windy'])\n",
    "\n",
    "# perform chi square\n",
    "print(info.values.tolist())\n",
    "chi2, p, dof, _ = chi2_contingency(info.values.tolist())\n",
    "print('chi2 value: ', chi2)\n",
    "print('p value: ', p)\n",
    "print('dof value: ', dof)\n",
    "\n",
    "if p < 0.05:\n",
    "  print(\n",
    "      'windy and temperature are independent of each other.'\n",
    "  )\n",
    "else:\n",
    "    print(\n",
    "      'windy and temperature are NOT independent of each other'\n",
    "  )"
   ]
  },
  {
   "cell_type": "markdown",
   "metadata": {
    "id": "XDyEKXeHy0hm"
   },
   "source": [
    "### Now we have learn how to perform t-test and chi-square test. Let's try the following example. Given the following scenario <br> \n",
    "\n",
    "A clinic provides a program to help their clients lose weight and asks a consumer agency to investigate the effectiveness of the program. The agency takes a sample of 50 people, weighing each person in the sample before the program begins and 3 months later to produce the following table. Determine whether the program is effective.\n",
    "\n"
   ]
  },
  {
   "cell_type": "code",
   "execution_count": null,
   "metadata": {
    "id": "B7EjhQM024bo"
   },
   "outputs": [],
   "source": [
    "# Research Question: Determine if program is effective\n",
    "# Hypothesis: \n",
    "# Ho = The difference of weight after 3 months is equal to zero [Meaning: not effective]\n",
    "# H1 = The difference of weight after 3 months is not equal to zero [Meaning: effective]\n",
    "# Test to use? independent t-test / pair t-test / chi-square test \n",
    "# We use alpha = 0.05 \n"
   ]
  },
  {
   "cell_type": "code",
   "execution_count": null,
   "metadata": {
    "id": "iD_GvKORyzwl"
   },
   "outputs": [],
   "source": [
    "import pandas as pd \n",
    "import numpy as np\n",
    "\n",
    "# generate a pseudo table of person weight before and after the program \n",
    "\n",
    "n = 50\n",
    "arr = np.zeros([n,4])\n",
    "arr[:, 0] = np.arange(0, n)\n",
    "arr[:, 1] = [np.random.randint(55,100) for i in range(n)]\n",
    "arr[:, 2] = [np.random.randint(55,80) for i in range(n)]\n",
    "arr[:, 3] = arr[:, 2] - arr[:, 1]\n",
    "data = pd.DataFrame(arr, columns=['Person', 'Before', 'After', 'Difference'])\n",
    "data"
   ]
  },
  {
   "cell_type": "code",
   "execution_count": null,
   "metadata": {
    "colab": {
     "base_uri": "https://localhost:8080/",
     "height": 305
    },
    "id": "9YCbGacn5hRZ",
    "outputId": "1126caf2-29ac-4dcd-ce33-0d81d8c8e811"
   },
   "outputs": [
    {
     "data": {
      "text/plain": [
       "<matplotlib.axes._subplots.AxesSubplot at 0x7fd2c6297ed0>"
      ]
     },
     "execution_count": 97,
     "metadata": {},
     "output_type": "execute_result"
    },
    {
     "data": {
      "image/png": "[encoded data removed]",
      "text/plain": [
       "<Figure size 432x288 with 1 Axes>"
      ]
     },
     "metadata": {},
     "output_type": "display_data"
    }
   ],
   "source": [
    "# look at the data\n",
    "import seaborn as sns\n",
    "\n",
    "sns.boxplot(x=\"variable\", y=\"value\", data=pd.melt(data[['Before', 'After']]))\n"
   ]
  },
  {
   "cell_type": "code",
   "execution_count": 12,
   "metadata": {
    "colab": {
     "base_uri": "https://localhost:8080/"
    },
    "id": "qaQ6XUxP2v6-",
    "outputId": "610c28ae-fe68-4e03-cc90-c7a8e43c0dc1"
   },
   "outputs": [
    {
     "name": "stdout",
     "output_type": "stream",
     "text": [
      "t-statistic:  5.964883350745545\n",
      "p-value:  2.650778708430842e-07\n",
      "p-value is less than 0.05, reject null hypothesis.There is a significant different in weight between begininng and after 3 month of exercise.Conclusion: The program is effective.\n"
     ]
    }
   ],
   "source": [
    "from scipy.stats import ttest_rel\n",
    "\n",
    "a = data['Before']\n",
    "b = data['After']\n",
    "t, p = ttest_rel(a, b)\n",
    "print('t-statistic: ', t)\n",
    "print('p-value: ', p)\n",
    "\n",
    "if p < 0.05:\n",
    "  print(\n",
    "      'p-value is less than 0.05, reject null hypothesis.'\n",
    "      'There is a significant different in weight between begininng and after 3 month of exercise.'\n",
    "      'Conclusion: The program is effective.'\n",
    "  )\n",
    "else:\n",
    "    print(\n",
    "       'p-value is larger than 0.05, do not reject null hypothesis.'\n",
    "       'There is a no significant different in weight between begininng and after 3 month of exercise.'\n",
    "      'Conclusion: The program is not effective.'\n",
    "  )"
   ]
  },
  {
   "cell_type": "markdown",
   "metadata": {
    "id": "nsiwFU9H-C0F"
   },
   "source": [
    "### Can we use one sample t test to find out if the difference in weight between beginning and after 3 months is significant. \n",
    "Ho = Difference is equal to zero (Meaning: not effective) <br> \n",
    "H1 = Diffeerence is not equal to zero (Meaning: effective)"
   ]
  },
  {
   "cell_type": "code",
   "execution_count": null,
   "metadata": {
    "id": "7i-mKdsD-BI3"
   },
   "outputs": [],
   "source": [
    "# your code here"
   ]
  },
  {
   "cell_type": "code",
   "execution_count": 13,
   "metadata": {
    "cellView": "form",
    "colab": {
     "base_uri": "https://localhost:8080/"
    },
    "id": "ocxPKgd19xQG",
    "outputId": "78728471-e223-43ee-aa00-6ce241af38f6"
   },
   "outputs": [
    {
     "name": "stdout",
     "output_type": "stream",
     "text": [
      "t-statistic:  -5.964883350745545\n",
      "p-value:  2.650778708430842e-07\n",
      "p-value is less than 0.05, reject null hypothesis.There is a significant different in weight between begininng and after 3 month of exercise.Conclusion: The program is effective.\n"
     ]
    }
   ],
   "source": [
    "#@title Solution\n",
    "from scipy import stats \n",
    "# (One sample t test)\n",
    "\n",
    "a = data['Difference']\n",
    "b = 0\n",
    "t, p = stats.ttest_1samp(a, b)\n",
    "print('t-statistic: ', t)\n",
    "print('p-value: ', p)\n",
    "\n",
    "if p < 0.05:\n",
    "  print(\n",
    "      'p-value is less than 0.05, reject null hypothesis.'\n",
    "      'There is a significant different in weight between begininng and after 3 month of exercise.'\n",
    "      'Conclusion: The program is effective.'\n",
    "  )\n",
    "else:\n",
    "    print(\n",
    "       'p-value is larger than 0.05, do not reject null hypothesis.'\n",
    "       'There is a no significant different in weight between begininng and after 3 month of exercise.'\n",
    "      'Conclusion: The program is not effective.'\n",
    "  )"
   ]
  }
 ],
 "metadata": {
  "colab": {
   "collapsed_sections": [],
   "name": "Lab6_Statistical_Inference.ipynb",
   "provenance": []
  },
  "kernelspec": {
   "display_name": "Python 3 (ipykernel)",
   "language": "python",
   "name": "python3"
  },
  "language_info": {
   "codemirror_mode": {
    "name": "ipython",
    "version": 3
   },
   "file_extension": ".py",
   "mimetype": "text/x-python",
   "name": "python",
   "nbconvert_exporter": "python",
   "pygments_lexer": "ipython3",
   "version": "3.9.10"
  }
 },
 "nbformat": 4,
 "nbformat_minor": 4
}
