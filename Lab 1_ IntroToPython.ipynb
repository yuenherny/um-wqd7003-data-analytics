{
 "cells": [
  {
   "cell_type": "markdown",
   "metadata": {},
   "source": [
    "# Python Basics \n",
    "\n",
    "## Contents:\n",
    "\n",
    "* [What is a Program?](#Programs)\n",
    "* [What is Python?](#Python)\n",
    "* [Arithmetic](#Arithmetic)\n",
    "* [Variables](#Variables)\n",
    "* [Strings](#Strings)\n",
    "\n",
    "Student name: Yu Yuen Hern\n",
    "\n",
    "Matrix no.: S2121801"
   ]
  },
  {
   "cell_type": "markdown",
   "metadata": {},
   "source": [
    "# Programs\n",
    "\n",
    "\n",
    "Most machines are designed to do one thing.  For example, a fan is designed to blow air.  \n",
    "\n",
    "Because they are designed to do one thing only, most machines are limited in what they can do.  You can try and vary their basic functionality, but you will not get very far.  If you want to change a fan into something else, like a dynamo, you have to alter the design of the machine in order to get it to do something else.  \n",
    "\n",
    "> \"A computer does two things: perform calculation & remember the results.\"  \n",
    "> <center>* - John V. Guttag* </center>\n",
    "\n",
    "With those two things, you can run any process, which is defined as a very precise sequence of steps.  Why do processes need to be precise?\n",
    "\n",
    "If you can run any process, well, you can run any algorithm, because an algorithm is just a process that always finishes.  You can also run any program, which is just a fancy name for a collection of interlinked processes. \n",
    "\n",
    "And that's it.  Your computer does two things, but it's designed to do one: run programs.  To write programs, you have to learn programming, and that will be the focus of the Python Module. "
   ]
  },
  {
   "cell_type": "markdown",
   "metadata": {},
   "source": [
    "# Python\n",
    "\n",
    "Why Python?\n",
    "\n",
    "1. It’s easy to learn\n",
    "- Now the language of choice for 8 of 10 top US computer science\n",
    "programs (Philip Guo, CACM)\n",
    "2. Full featured\n",
    "- Not just a statistics language, but has full capabilities for data\n",
    "acquisition, cleaning, databases, high performance computing, and more\n",
    "3. Strong Data Science Libraries\n",
    "- The SciPy Ecosystem\n",
    "\n",
    "\n",
    "It's important to note that Python isn't the only way that we could teach data science. We can teach data science in R, in Excel, in any number of software packages.  That's because Python is a tool that data scientists use, but the concepts are more important for you to understand. \n",
    "\n",
    "A computer's purpose is to stores (and manipulate) a sequence of instructions, and has a set of elements that will execute any instruction in that sequence. Once we program using instructions and data objects at the level of the machine (e.g., move 64 bits of data from this location to that location) then we do **low-level programming**.\n",
    "\n",
    "If we program using more _abstract_ operations (e.g., pop up a menu on the screen) that have been provided by the language designer then we do **high-level programming**. Since you don't have to tell Python how to move bits and bytes around, when you write you are doing something abstract - your computer understands something else.\n",
    "\n",
    "The Python _interpreter_ is a program that interprets the programs that we write in Python by running a program that a computer understands directly. The language that your computers understand directly is called *binary*. Python is a **language**, not a program in itself, although the _interpreter_ is.  \n",
    "\n",
    "So Python is an _abstract_ **high-level language**.\n",
    "\n",
    "### Your first program: Print!\n",
    "\n",
    "Python can handle strings of letters that are enclosed in quotation marks like:  \n",
    "\n",
    "`\"Hello Class\"` or `'Hello World'`\n",
    "\n",
    "One of the simplest programs is print, which works like the following:"
   ]
  },
  {
   "cell_type": "code",
   "execution_count": 2,
   "metadata": {},
   "outputs": [
    {
     "name": "stdout",
     "output_type": "stream",
     "text": [
      "'Hello Class!'\n"
     ]
    }
   ],
   "source": [
    "print(\"'Hello Class!'\") "
   ]
  },
  {
   "cell_type": "code",
   "execution_count": 3,
   "metadata": {},
   "outputs": [
    {
     "name": "stdout",
     "output_type": "stream",
     "text": [
      "Hello World\n"
     ]
    }
   ],
   "source": [
    "# Write your first bit of code: print Hello World!\n",
    "# How is the print function abstract?\n",
    "print(\"Hello World\")"
   ]
  },
  {
   "cell_type": "markdown",
   "metadata": {},
   "source": [
    "## Arithmetic\n",
    "\n",
    "Python can also handle numbers, and basic arithmetic using the following functions.\n",
    "\n",
    "| Symbol | Task Performed |\n",
    "|----|---|\n",
    "| +  | Addition |\n",
    "| -  | Subtraction |\n",
    "| /  | division |\n",
    "| %  | modulo |\n",
    "| *  | multiplication |\n",
    "| //  | floor division |\n",
    "| **  | to the power of |"
   ]
  },
  {
   "cell_type": "code",
   "execution_count": 4,
   "metadata": {},
   "outputs": [
    {
     "name": "stdout",
     "output_type": "stream",
     "text": [
      "3\n",
      "15\n",
      "6\n",
      "1\n",
      "4.0\n"
     ]
    }
   ],
   "source": [
    "print(3)\n",
    "print(3*5)\n",
    "print(3+3)\n",
    "print(3-2)\n",
    "print(8/2)"
   ]
  },
  {
   "cell_type": "markdown",
   "metadata": {},
   "source": [
    "Parentheses work too! And they are used similarly to arithmetic rules."
   ]
  },
  {
   "cell_type": "code",
   "execution_count": 5,
   "metadata": {},
   "outputs": [
    {
     "name": "stdout",
     "output_type": "stream",
     "text": [
      "14\n",
      "20\n"
     ]
    }
   ],
   "source": [
    "print(2+3*4)\n",
    "print((2+3)*4)"
   ]
  },
  {
   "cell_type": "markdown",
   "metadata": {},
   "source": [
    "### Practice: Some Basic Arithmetic Exercises"
   ]
  },
  {
   "cell_type": "code",
   "execution_count": 6,
   "metadata": {},
   "outputs": [
    {
     "data": {
      "text/plain": [
       "31536000"
      ]
     },
     "execution_count": 6,
     "metadata": {},
     "output_type": "execute_result"
    }
   ],
   "source": [
    "# How many seconds are there in a year?\n",
    "365*24*60*60"
   ]
  },
  {
   "cell_type": "code",
   "execution_count": 7,
   "metadata": {
    "tags": []
   },
   "outputs": [
    {
     "name": "stdout",
     "output_type": "stream",
     "text": [
      "7560\n"
     ]
    }
   ],
   "source": [
    "# What is the duration of our 42-day class in minutes?\n",
    "print(42 * 3 * 60)"
   ]
  },
  {
   "cell_type": "code",
   "execution_count": 8,
   "metadata": {
    "tags": []
   },
   "outputs": [
    {
     "name": "stdout",
     "output_type": "stream",
     "text": [
      "0.5\n"
     ]
    }
   ],
   "source": [
    "# Find 1/2\n",
    "print(1 / 2)"
   ]
  },
  {
   "cell_type": "markdown",
   "metadata": {},
   "source": [
    "### Integers vs. Float\n",
    "\n",
    "For Python 2.x, it interprets 1/2 = 0, while Python 3.x the result will be 0.5\n",
    "\n",
    "Python allows you to work with both integers (int) and numbers containing decimals (float).  Of course, every integer can be represented as a float, but there are some things you can do with integers that you cannot do with floats that mostly have to do with precision.  Python can tell automatically if a number is an int or a float, though you can override this as you see fit."
   ]
  },
  {
   "cell_type": "code",
   "execution_count": 9,
   "metadata": {},
   "outputs": [
    {
     "name": "stdout",
     "output_type": "stream",
     "text": [
      "0.5\n"
     ]
    }
   ],
   "source": [
    "print(1/2)"
   ]
  },
  {
   "cell_type": "code",
   "execution_count": 10,
   "metadata": {},
   "outputs": [
    {
     "name": "stdout",
     "output_type": "stream",
     "text": [
      "<class 'int'>\n",
      "<class 'float'>\n",
      "3.3333333333333335\n",
      "1\n",
      "3.3333333333333335\n",
      "3.7142857142857144\n",
      "3.0\n",
      "8\n"
     ]
    }
   ],
   "source": [
    "print((type(10)))\n",
    "print((type(10.)))\n",
    "print((10 / 3))\n",
    "print((10 % 3))\n",
    "print((float(10) / 3)) # Force integers to be float\n",
    "print((13.0 / 3.5)) # You can also change the initial data type. \n",
    "print((13.0 //3.5)) # Floor Division, rounds down the result to the nearest integer\n",
    "print((round(7.5))) # You can round floats up to the neares integer."
   ]
  },
  {
   "cell_type": "markdown",
   "metadata": {},
   "source": [
    "### Int arithmetic\n",
    "\n",
    "Arithmetic with integers works the same way as normal arithmetic, except for division.  When you divide one integer by another, you drop the remainder.  To get the remainder, you can use the % (mod) operation.  To get the exact result, however, you need another data type - you turn one of the integers into a float.  In general, if you perform an arithmetic operation with one integer and one float, Python will turn both numbers into floats before performing the operation."
   ]
  },
  {
   "cell_type": "code",
   "execution_count": 11,
   "metadata": {},
   "outputs": [
    {
     "name": "stdout",
     "output_type": "stream",
     "text": [
      "Find x in 5x = 3x + 8\n"
     ]
    },
    {
     "data": {
      "text/plain": [
       "4.0"
      ]
     },
     "execution_count": 11,
     "metadata": {},
     "output_type": "execute_result"
    }
   ],
   "source": [
    "# Quick Exercises!\n",
    "# Solve the basic algebra equations, without doing any calculations in your head: \n",
    "# You should type all and only the numbers that are already on the screen. \n",
    "# For example:\n",
    "print(\"Find x in 5x = 3x + 8\")\n",
    "8/(5-3) "
   ]
  },
  {
   "cell_type": "code",
   "execution_count": 12,
   "metadata": {
    "tags": []
   },
   "outputs": [
    {
     "name": "stdout",
     "output_type": "stream",
     "text": [
      "Find x in 17x + -12 = 114 + 3x\n"
     ]
    },
    {
     "data": {
      "text/plain": [
       "9.0"
      ]
     },
     "execution_count": 12,
     "metadata": {},
     "output_type": "execute_result"
    }
   ],
   "source": [
    "# Find x in 17x + -12 = 114 + 3x.\n",
    "print(\"Find x in 17x + -12 = 114 + 3x\")\n",
    "(114 - (-12)) / (17 - 3)"
   ]
  },
  {
   "cell_type": "code",
   "execution_count": 13,
   "metadata": {
    "tags": []
   },
   "outputs": [
    {
     "name": "stdout",
     "output_type": "stream",
     "text": [
      "Find x in -10x + -19 = 11 + -8x\n"
     ]
    },
    {
     "data": {
      "text/plain": [
       "-15.0"
      ]
     },
     "execution_count": 13,
     "metadata": {},
     "output_type": "execute_result"
    }
   ],
   "source": [
    "# Find x in -10x + -19 = 11 + -8x.\n",
    "print(\"Find x in -10x + -19 = 11 + -8x\")\n",
    "(11 - (-19)) / (-10 - (-8))"
   ]
  },
  {
   "cell_type": "code",
   "execution_count": 14,
   "metadata": {
    "tags": []
   },
   "outputs": [
    {
     "data": {
      "text/plain": [
       "-74.0"
      ]
     },
     "execution_count": 14,
     "metadata": {},
     "output_type": "execute_result"
    }
   ],
   "source": [
    "# Find x in -1x + -1 = 221 + 2x.\n",
    "(221 - -1) / (-1 - 2)"
   ]
  },
  {
   "cell_type": "markdown",
   "metadata": {},
   "source": [
    "### Float arithmetic"
   ]
  },
  {
   "cell_type": "code",
   "execution_count": 15,
   "metadata": {},
   "outputs": [
    {
     "name": "stdout",
     "output_type": "stream",
     "text": [
      "7.7\n",
      "3.3\n",
      "12.100000000000001\n",
      "2.5\n",
      "2.0\n",
      "42.540042248725975\n",
      "False\n",
      "True\n"
     ]
    }
   ],
   "source": [
    "# Examples:\n",
    "print(5.5 + 2.2)\n",
    "print(5.5 - 2.2)\n",
    "print(5.5 * 2.2)\n",
    "print(5.5 / 2.2)\n",
    "print(5.5 // 2.2)\n",
    "print(5.5 ** 2.2)\n",
    "print(5.5 < 2.2)\n",
    "print(5.5 != 2.2)"
   ]
  },
  {
   "cell_type": "code",
   "execution_count": 16,
   "metadata": {
    "tags": []
   },
   "outputs": [
    {
     "name": "stdout",
     "output_type": "stream",
     "text": [
      "Find x in 17x + -11 = 113 + 7x\n"
     ]
    },
    {
     "data": {
      "text/plain": [
       "12.4"
      ]
     },
     "execution_count": 16,
     "metadata": {},
     "output_type": "execute_result"
    }
   ],
   "source": [
    "# Find x in 17x + -11 = 113 + 7x.\n",
    "print(\"Find x in 17x + -11 = 113 + 7x\")\n",
    "(113 - -11) / (17 - 7)"
   ]
  },
  {
   "cell_type": "code",
   "execution_count": 17,
   "metadata": {
    "tags": []
   },
   "outputs": [
    {
     "name": "stdout",
     "output_type": "stream",
     "text": [
      "Find x in -x + -19.4 = 1844.12 + 2x\n"
     ]
    },
    {
     "data": {
      "text/plain": [
       "-621.1733333333333"
      ]
     },
     "execution_count": 17,
     "metadata": {},
     "output_type": "execute_result"
    }
   ],
   "source": [
    "# Find x in -x + -19.4 = 1844.12 + 2x.\n",
    "print(\"Find x in -x + -19.4 = 1844.12 + 2x\")\n",
    "(1844.12 - -19.4) / (-1 - 2)"
   ]
  },
  {
   "cell_type": "markdown",
   "metadata": {},
   "source": [
    "# Variables\n",
    "\n",
    "A name that is used to denote something or a value is called a variable. This is how a computer *stores* data, by assigning it to a variable! In python, variables can be declared and values can be assigned to it as follows:"
   ]
  },
  {
   "cell_type": "code",
   "execution_count": 18,
   "metadata": {},
   "outputs": [
    {
     "name": "stdout",
     "output_type": "stream",
     "text": [
      "-10\n",
      "2.7\n",
      "-7.3\n",
      "<class 'int'>\n",
      "<class 'float'>\n"
     ]
    }
   ],
   "source": [
    "b = -10 \n",
    "c = 2.7 \n",
    "\n",
    "print(b)\n",
    "print(c)\n",
    "print((b + c))\n",
    "\n",
    "print((type(b)))\n",
    "print((type(c)))"
   ]
  },
  {
   "cell_type": "code",
   "execution_count": 19,
   "metadata": {
    "tags": []
   },
   "outputs": [
    {
     "name": "stdout",
     "output_type": "stream",
     "text": [
      "-10.0\n",
      "2\n",
      "<class 'float'>\n",
      "<class 'int'>\n"
     ]
    }
   ],
   "source": [
    "# Note how changing the type to an int rounds down\n",
    "b = float(b)\n",
    "c = int(c)\n",
    "\n",
    "print(b)\n",
    "print(c)\n",
    "\n",
    "print((type(b)))\n",
    "print((type(c)))"
   ]
  },
  {
   "cell_type": "markdown",
   "metadata": {},
   "source": [
    "Multiple variables can be assigned with the same value."
   ]
  },
  {
   "cell_type": "code",
   "execution_count": 20,
   "metadata": {
    "tags": []
   },
   "outputs": [
    {
     "name": "stdout",
     "output_type": "stream",
     "text": [
      "(1, 1)\n"
     ]
    }
   ],
   "source": [
    "x = y = 1\n",
    "print((x,y))"
   ]
  },
  {
   "cell_type": "code",
   "execution_count": 21,
   "metadata": {
    "tags": []
   },
   "outputs": [
    {
     "data": {
      "text/plain": [
       "2167456295216"
      ]
     },
     "execution_count": 21,
     "metadata": {},
     "output_type": "execute_result"
    }
   ],
   "source": [
    "id(x)"
   ]
  },
  {
   "cell_type": "code",
   "execution_count": 22,
   "metadata": {
    "tags": []
   },
   "outputs": [
    {
     "data": {
      "text/plain": [
       "2167456295216"
      ]
     },
     "execution_count": 22,
     "metadata": {},
     "output_type": "execute_result"
    }
   ],
   "source": [
    "id(y)"
   ]
  },
  {
   "cell_type": "code",
   "execution_count": 23,
   "metadata": {
    "tags": []
   },
   "outputs": [
    {
     "name": "stdout",
     "output_type": "stream",
     "text": [
      "(3, 2)\n"
     ]
    }
   ],
   "source": [
    "# Multiple Assignment - What does this do?\n",
    "x,y = 2,3\n",
    "x,y = y,x\n",
    "print((x,y))"
   ]
  },
  {
   "cell_type": "markdown",
   "metadata": {},
   "source": [
    "#### Follow the following variable naming rules:\n",
    "\n",
    "- Variable names can only contain letters, numbers, and underscores. Variable names can start with a letter or an underscore, but not a number.\n",
    "- Spaces are not allowed in variable names, so we use underscores instead of spaces. For example, use student_name instead of \"student name\".\n",
    "- You cannot use Python keywords as variable names.\n",
    "- Variable names should be descriptive, without being too long. For example mc_wheels is better than just \"wheels\", and number_of_wheels_on_a_motorycle.\n",
    "- Be careful about using the lowercase letter l and the uppercase letter O in places where they could be confused with the numbers 1 and 0.\n",
    "\n",
    "### Practice using variables"
   ]
  },
  {
   "cell_type": "code",
   "execution_count": 24,
   "metadata": {
    "tags": []
   },
   "outputs": [
    {
     "name": "stdout",
     "output_type": "stream",
     "text": [
      "0.29979245800000004\n"
     ]
    }
   ],
   "source": [
    "# How fast does the speed of light travel in one nanosecond?\n",
    "# Give your answer in seconds, and assign it to a new variable called nanostick\n",
    "\n",
    "speed_of_light = 299792458 # meters per second\n",
    "time = 1e-9\n",
    "distance = speed_of_light * time\n",
    "print(distance)"
   ]
  },
  {
   "cell_type": "code",
   "execution_count": 25,
   "metadata": {
    "tags": []
   },
   "outputs": [
    {
     "name": "stdout",
     "output_type": "stream",
     "text": [
      "0.09993081933333332\n"
     ]
    }
   ],
   "source": [
    "# How far does light travel in the time that your computer does one cycle?\n",
    "\n",
    "clock_speed = 3e9 # 3 GHz, 3e9 cycles per second\n",
    "time_per_cycle = 1 / clock_speed\n",
    "distance = speed_of_light * time_per_cycle\n",
    "print(distance) # in meters"
   ]
  },
  {
   "cell_type": "code",
   "execution_count": 26,
   "metadata": {
    "tags": []
   },
   "outputs": [
    {
     "name": "stdout",
     "output_type": "stream",
     "text": [
      "8.5\n",
      "3.5\n"
     ]
    }
   ],
   "source": [
    "# Variables can vary!\n",
    "# Guess the final value of guess_this_number of this code:\n",
    "\n",
    "guess_this_number  = 17\n",
    "guess_this_number = guess_this_number/2\n",
    "print(guess_this_number)\n",
    "guess_this_number = guess_this_number - 5\n",
    "print(guess_this_number)"
   ]
  },
  {
   "cell_type": "code",
   "execution_count": 27,
   "metadata": {
    "tags": []
   },
   "outputs": [
    {
     "name": "stdout",
     "output_type": "stream",
     "text": [
      "70\n",
      "70\n"
     ]
    }
   ],
   "source": [
    "# Guess the output of this code:\n",
    "minutes = 60 # I added this so that the code can run\n",
    "minutes = minutes + 10\n",
    "print(minutes)\n",
    "seconds = minutes / 2\n",
    "print(minutes)"
   ]
  },
  {
   "cell_type": "code",
   "execution_count": 28,
   "metadata": {
    "tags": []
   },
   "outputs": [
    {
     "name": "stdout",
     "output_type": "stream",
     "text": [
      "Variable            Type     Data/Info\n",
      "--------------------------------------\n",
      "b                   float    -10.0\n",
      "c                   int      2\n",
      "clock_speed         float    3000000000.0\n",
      "distance            float    0.09993081933333332\n",
      "guess_this_number   float    3.5\n",
      "minutes             int      70\n",
      "seconds             float    35.0\n",
      "speed_of_light      int      299792458\n",
      "time                float    1e-09\n",
      "time_per_cycle      float    3.333333333333333e-10\n",
      "x                   int      3\n",
      "y                   int      2\n"
     ]
    }
   ],
   "source": [
    "# Some Jupyter Magic on variables\n",
    "%whos"
   ]
  },
  {
   "cell_type": "markdown",
   "metadata": {},
   "source": [
    "# Strings\n",
    "\n",
    "A string is a set of characters.  Strings are used to store data that is _text_.\n",
    "\n",
    "In Python, Strings are abbreviated \"str\" and there are many built-in features that allow you to manipulate those strings.  \n",
    "\n",
    "Strings can be enclosed by either double or single quotes, although single quotes are more common.\n",
    "Question: Why would you want to use double quotes on occasion?"
   ]
  },
  {
   "cell_type": "code",
   "execution_count": 29,
   "metadata": {
    "tags": []
   },
   "outputs": [
    {
     "name": "stdout",
     "output_type": "stream",
     "text": [
      "hello\n"
     ]
    }
   ],
   "source": [
    "# Which of these are valid strings?\n",
    "print('hello')\n",
    "# print(\"hello') # Not valid\n",
    "# print('hello) # Not valid\n",
    "# print('hello\") # Not valid\n",
    "# print(\"hello\") # Not valid\n",
    "# print \"hello\" # Not valid\n",
    "# print hello # Not valid"
   ]
  },
  {
   "cell_type": "code",
   "execution_count": 30,
   "metadata": {
    "tags": []
   },
   "outputs": [
    {
     "name": "stdout",
     "output_type": "stream",
     "text": [
      "My name is Yu Yuen Hern\n"
     ]
    }
   ],
   "source": [
    "# Define a variable as your name.  Then print \"My name is _____\" using your variable. \n",
    "my_name = 'Yu Yuen Hern'\n",
    "print(\"My name is \" + my_name)"
   ]
  },
  {
   "cell_type": "markdown",
   "metadata": {},
   "source": [
    "#### A side note: \n",
    "One of the most useful tools for a curious student is the documentation, or docs that explain the functionality of a particular python type, function, or otherwise.  Take a look at the\n",
    "[Python Documentation on Strings](https://docs.python.org/3/library/stdtypes.html#str).\n",
    "\n",
    "### String Operations\n",
    "s + t -- the concatenation of s and t\n",
    "\n",
    "n * s -- equivalent to adding s to itself n times\n"
   ]
  },
  {
   "cell_type": "code",
   "execution_count": 31,
   "metadata": {
    "tags": []
   },
   "outputs": [
    {
     "name": "stdout",
     "output_type": "stream",
     "text": [
      "French Fries\n"
     ]
    }
   ],
   "source": [
    "b = 'French' # Concatenation works quite intuitively\n",
    "print((b + ' Fries'))"
   ]
  },
  {
   "cell_type": "code",
   "execution_count": 32,
   "metadata": {
    "tags": []
   },
   "outputs": [
    {
     "name": "stdout",
     "output_type": "stream",
     "text": [
      "pi is approximately: 3.14\n"
     ]
    }
   ],
   "source": [
    "pi = 3.14\n",
    "print(('pi is approximately: ' + str(3.14))) # why does this throw an error?"
   ]
  },
  {
   "cell_type": "code",
   "execution_count": 33,
   "metadata": {},
   "outputs": [
    {
     "name": "stdout",
     "output_type": "stream",
     "text": [
      "oleh oleh Malaysia boleh \n",
      "('oleh oleh ', 'Malaysia b', 'oleh ')\n"
     ]
    }
   ],
   "source": [
    "a = 'oleh '\n",
    "print((a*2 + 'Malaysia b' + a)) \n",
    "print((a*2, 'Malaysia b', a))"
   ]
  },
  {
   "cell_type": "markdown",
   "metadata": {},
   "source": [
    "### Slices of String Indices\n",
    "Characters in a string can be accessed using the standard [ ] syntax, and like Java and C++, Python uses zero-based indexing.  This concept will extend much further than strings.\n",
    "\n",
    "This is easiest to think about if you think of each letter as being in its own box.\n",
    "\n",
    "s[1:4] is 'ell' -- chars starting at index 1 and extending up to but not including index 4\n",
    "\n",
    "s[1:] is 'ello' -- omitting either index defaults to the start or end of the string\n",
    "\n",
    "s[:] is 'Hello' -- omitting both always gives us a copy of the whole thing (this is the pythonic way to copy a sequence like a string or list)\n",
    "\n",
    "s[1:100] is 'ello' -- an index that is too big is truncated down to the string length\n",
    "\n",
    "s[-1] is 'o' -- last char (1st from the end)\n",
    "\n",
    "s[-4] is 'e' -- 4th from the end\n",
    "\n",
    "s[:-3] is 'He' -- going up to but not including the last 3 chars.\n",
    "\n",
    "s[-3:] is 'llo' -- starting with the 3rd char from the end and extending to the end of the string.\n",
    "\n",
    " h  e  l  l  o <br>\n",
    " 0  1  2  3  4<br>\n",
    "-5 -4 -3 -2 -1<br>\n",
    "\n",
    "\n",
    "s[i] -- ith item of s, origin 0\n",
    "\n",
    "s[i:j] -- slice of s from i to j\n",
    "\n",
    "s[i:j:k] -- slice of s from i to j with step k\n"
   ]
  },
  {
   "cell_type": "code",
   "execution_count": 34,
   "metadata": {},
   "outputs": [
    {
     "name": "stdout",
     "output_type": "stream",
     "text": [
      "text string here\n",
      "The first character in our string is t.\n",
      "The second, third, and fourth characters are ext.\n",
      "o\n",
      "he\n",
      "llo\n"
     ]
    }
   ],
   "source": [
    "#[added indexing example]\n",
    "a = 'text string here' #Strings are contained by either single or double quotes.\n",
    "\n",
    "print(a)\n",
    "print((\"The first character in our string is \" + a[0] +\".\"))\n",
    "print((\"The second, third, and fourth characters are \" + a[1:4] +\".\"))\n",
    "\n",
    "s = 'hello'\n",
    "\n",
    "print((s[-1]))\n",
    "print((s[:-3]))\n",
    "print((s[-3:]))"
   ]
  },
  {
   "cell_type": "code",
   "execution_count": 35,
   "metadata": {},
   "outputs": [
    {
     "name": "stdout",
     "output_type": "stream",
     "text": [
      "l l\n",
      "h h\n",
      "he e\n",
      "e e\n",
      "o o\n"
     ]
    }
   ],
   "source": [
    "# Quiz: For which pairs will the result, for any string s, always be the same?\n",
    "s = 'hello'\n",
    "\n",
    "print(s[3], s[1+1+1]) # This\n",
    "print(s[0], (s+s)[0]) # This\n",
    "print(s[0]+s[1], s[0+1] )\n",
    "print(s[1], (s+ 'ed')[1]) # This\n",
    "print(s[-1], (s+s)[-1]) # This"
   ]
  },
  {
   "cell_type": "code",
   "execution_count": 36,
   "metadata": {},
   "outputs": [
    {
     "data": {
      "text/plain": [
       "'hello'"
      ]
     },
     "execution_count": 36,
     "metadata": {},
     "output_type": "execute_result"
    }
   ],
   "source": [
    "# Quiz: Which slices will return the string s exactly as it is?\n",
    "s[:] # This"
   ]
  },
  {
   "cell_type": "code",
   "execution_count": 37,
   "metadata": {},
   "outputs": [
    {
     "data": {
      "text/plain": [
       "'hello'"
      ]
     },
     "execution_count": 37,
     "metadata": {},
     "output_type": "execute_result"
    }
   ],
   "source": [
    "s+s[0:-1+1] # This"
   ]
  },
  {
   "cell_type": "code",
   "execution_count": 38,
   "metadata": {},
   "outputs": [
    {
     "data": {
      "text/plain": [
       "'hello'"
      ]
     },
     "execution_count": 38,
     "metadata": {},
     "output_type": "execute_result"
    }
   ],
   "source": [
    "s[0:] # This"
   ]
  },
  {
   "cell_type": "code",
   "execution_count": 39,
   "metadata": {},
   "outputs": [
    {
     "data": {
      "text/plain": [
       "'hell'"
      ]
     },
     "execution_count": 39,
     "metadata": {},
     "output_type": "execute_result"
    }
   ],
   "source": [
    "s[:-1] # No"
   ]
  },
  {
   "cell_type": "code",
   "execution_count": 40,
   "metadata": {},
   "outputs": [
    {
     "data": {
      "text/plain": [
       "'hello'"
      ]
     },
     "execution_count": 40,
     "metadata": {},
     "output_type": "execute_result"
    }
   ],
   "source": [
    "s[:3]+s[3:] # Yes"
   ]
  },
  {
   "cell_type": "markdown",
   "metadata": {},
   "source": [
    "### String Indices related methods\n",
    "\n",
    "len(s) -- length of s\t\n",
    "\n",
    "s.index(x) -- index of the first occurrence of x in s\t\n",
    "\n",
    "s.find('other') -- searches for the given other string (not a regular expression) within s, and returns the first \n",
    "index where it begins or -1 if not found"
   ]
  },
  {
   "cell_type": "code",
   "execution_count": 41,
   "metadata": {},
   "outputs": [
    {
     "name": "stdout",
     "output_type": "stream",
     "text": [
      "You can have data without information, but you cannot have information without data. ~ Daniel Keys Moran,  science fiction writer\n",
      "129\n",
      "-1\n",
      "Daniel Keys Moran\n",
      "science fiction writer\n",
      "You can have data without information, but you cannot have information without data.\n"
     ]
    }
   ],
   "source": [
    "data_vs_info = \"You can have data without information, but you cannot have information without data. \\\n",
    "~ Daniel Keys Moran,  science fiction writer\"\n",
    "\n",
    "print(data_vs_info) # Note what \\ does.\n",
    "print((len(data_vs_info)))\n",
    "print((data_vs_info.find('strings')))\n",
    "# print((data_vs_info.index('strings'))) # Commented to avoid error raised\n",
    "\n",
    "# Slice the name of the author\n",
    "author_firstname_idx = data_vs_info.find('Daniel')\n",
    "author_lastname_idx = data_vs_info.find('Moran')\n",
    "print(data_vs_info[author_firstname_idx:author_lastname_idx + 5])\n",
    "# Slice the profession.  \n",
    "profession_idx = data_vs_info.find('science')\n",
    "print(data_vs_info[profession_idx:])\n",
    "# Slice the quote only\n",
    "full_stop_idx = data_vs_info.find('.')\n",
    "print(data_vs_info[:full_stop_idx + 1])"
   ]
  },
  {
   "cell_type": "code",
   "execution_count": 42,
   "metadata": {
    "tags": []
   },
   "outputs": [
    {
     "name": "stdout",
     "output_type": "stream",
     "text": [
      "First part of the quote: \n",
      "There is geometry in the humming of the strings\n",
      "\n",
      "Second part of the quote: \n",
      "there is music in the spacing of the spheres\n",
      "\n",
      "Author's name: \n",
      "Pythagoras\n",
      "\n"
     ]
    }
   ],
   "source": [
    "# Practice \n",
    "# Combine the find/index functions and string slicing to return:\n",
    "# Just the first part of the quote\n",
    "# Just the second part of the quote\n",
    "# Just the author's name. \n",
    "pythagoras = \"There is geometry in the humming of the strings, there is music in the spacing of the spheres. -Pythagoras\"\n",
    "\n",
    "print('First part of the quote: ')\n",
    "comma_idx = pythagoras.find(',')\n",
    "print(pythagoras[:comma_idx] + '\\n')\n",
    "\n",
    "print('Second part of the quote: ')\n",
    "full_stop_idx = pythagoras.find('.')\n",
    "print(pythagoras[comma_idx + 2:full_stop_idx] + '\\n')\n",
    "\n",
    "print(\"Author's name: \")\n",
    "hyphen_idx = pythagoras.find('-')\n",
    "print(pythagoras[hyphen_idx + 1:] + '\\n')"
   ]
  },
  {
   "cell_type": "code",
   "execution_count": 43,
   "metadata": {
    "tags": []
   },
   "outputs": [
    {
     "data": {
      "text/plain": [
       "-1"
      ]
     },
     "execution_count": 43,
     "metadata": {},
     "output_type": "execute_result"
    }
   ],
   "source": [
    "# Which of these will evaluate to -1?\n",
    "\"test\".find(\"t\")\n",
    "\"test\".find(\"st\")\n",
    "\"Test\".find(\"te\") # This\n",
    "\"west\".find(\"test\") # This"
   ]
  },
  {
   "cell_type": "code",
   "execution_count": 44,
   "metadata": {
    "tags": []
   },
   "outputs": [
    {
     "name": "stdout",
     "output_type": "stream",
     "text": [
      "2\n",
      "-1\n",
      "0\n",
      "0\n",
      "0\n"
     ]
    }
   ],
   "source": [
    "# Which of these will always return the value zero for any given string s?\n",
    "print((s.find(s[2:3]))) \n",
    "print((s.find(\"s\")))\n",
    "print((\"s\".find(\"s\"))) # This\n",
    "print((s.find(\"\"))) # This\n",
    "print((s.find(s+\"!!!\")+1)) # This"
   ]
  },
  {
   "cell_type": "code",
   "execution_count": 45,
   "metadata": {},
   "outputs": [
    {
     "name": "stdout",
     "output_type": "stream",
     "text": [
      "Help on method_descriptor in str:\n",
      "\n",
      "str.find = find(...)\n",
      "    S.find(sub[, start[, end]]) -> int\n",
      "    \n",
      "    Return the lowest index in S where substring sub is found,\n",
      "    such that sub is contained within S[start:end].  Optional\n",
      "    arguments start and end are interpreted as in slice notation.\n",
      "    \n",
      "    Return -1 on failure.\n",
      "\n"
     ]
    }
   ],
   "source": [
    "# How to look for help.  Equivalent to looking at https://docs.python.org/2/library/string.html#string.find\n",
    "help(\"str.find\")"
   ]
  },
  {
   "cell_type": "code",
   "execution_count": 51,
   "metadata": {},
   "outputs": [
    {
     "name": "stdout",
     "output_type": "stream",
     "text": [
      "There is geometry in the humming of the strings, there is music in the spacing of the spheres. -Pythagoras\n",
      "Length of quote is: 106\n",
      "No more word found\n",
      "No more word found\n",
      "The starting index of \"the\" in the quote are: [21, 36, 49, 67, 82]\n",
      "The starting index of \"in\" in the quote are: [18, 29, 43, 64, 75]\n"
     ]
    }
   ],
   "source": [
    "# Try using the subsequence parameter to find the indices of all the 'the' and 'in' words in the pythagoras quote.\n",
    "print(pythagoras)\n",
    "\n",
    "\"\"\" \n",
    "Pseudocode\n",
    "1. create list to keep 'the' and 'in' index, fill in with 0 as first element\n",
    "2. get the length of entire string, for string search\n",
    "3. create flag var as False\n",
    "4. while flag is False:\n",
    "    get index of 'the' by slicing string with the_list[-1] to length of string\n",
    "    append index to the_list\n",
    "    \n",
    "    get index of 'in' by slicing string with the_list[-1] to length of string\n",
    "    append index to in_list\n",
    "    \n",
    "    if any error pops up (since a ValueError will be returned when the word can't be found by .index function)\n",
    "        flag = True\n",
    "\n",
    "\"\"\"\n",
    "\n",
    "the_list = list([0])\n",
    "in_list = [0,]\n",
    "\n",
    "quote_len = len(pythagoras)\n",
    "print('Length of quote is: {}'.format(quote_len))\n",
    "flag = False\n",
    "\n",
    "while flag is False:\n",
    "    \n",
    "    try:\n",
    "        the_idx = pythagoras.index('the', the_list[-1] + 1, quote_len)\n",
    "    except ValueError:\n",
    "        print('No more word found')\n",
    "    else:\n",
    "        the_list.append(the_idx)\n",
    "        # print(the_list)\n",
    "    \n",
    "    try:\n",
    "        in_idx = pythagoras.index('in', in_list[-1] + 1, quote_len)\n",
    "    except ValueError:\n",
    "        print('No more word found')\n",
    "        flag = True\n",
    "    else:\n",
    "        in_list.append(in_idx)\n",
    "        # print(in_list)\n",
    "        \n",
    "print('The starting index of \"the\" in the quote are: {}'.format(the_list[1:]))\n",
    "print('The starting index of \"in\" in the quote are: {}'.format(in_list[1:]))"
   ]
  },
  {
   "cell_type": "markdown",
   "metadata": {},
   "source": [
    "### Common built- in methods\n",
    "min(s) -- smallest item of s\t\n",
    "\n",
    "max(s) -- largest item of s\t \n",
    "\n",
    "s.count(x) -- total number of occurrences of x in s\t\n",
    "\n",
    "s.lower(), s.upper() -- returns the lowercase or uppercase version of the string\n",
    "\n",
    "s.strip() -- returns a string with whitespace removed from the start and end\n",
    "\n",
    "s.isalpha()/s.isdigit()/s.isspace()... -- tests if all the string chars are in the various character classes\n",
    "\n",
    "s.startswith('other'), s.endswith('other') -- tests if the string starts or ends with the given other string\n",
    "\n",
    "s.replace('old', 'new') -- returns a string where all occurrences of 'old' have been replaced by 'new'\n",
    "\n",
    "s.split('delim') -- returns a list of substrings separated by the given delimiter. The delimiter is not a regular expression, it's just text. 'aaa,bbb,ccc'.split(',') -> ['aaa', 'bbb', 'ccc']. As a convenient special case s.split() (with no arguments) splits on all whitespace chars.\n",
    "\n",
    "s.join(list) -- opposite of split(), joins the elements in the given list together using the string as the delimiter. e.g. '---'.join(['aaa', 'bbb', 'ccc']) -> aaa---bbb---ccc"
   ]
  },
  {
   "cell_type": "markdown",
   "metadata": {},
   "source": [
    "### Format\n",
    "\n",
    "The % operator takes a printf-type format string on the left (%d int, %s string, %f/%g floating point), and the matching values in a tuple on the right (a tuple is made of values separated by commas, typically grouped inside parenthesis)... more about tuples later."
   ]
  },
  {
   "cell_type": "code",
   "execution_count": 27,
   "metadata": {},
   "outputs": [
    {
     "name": "stdout",
     "output_type": "stream",
     "text": [
      "We were going nearly 130.200000 km/hr. But there were 3 cars going faster!\n"
     ]
    }
   ],
   "source": [
    "# % operator\n",
    "print(\"We were going nearly %f km/hr. But there were %d %s going faster!\"%(130.2, 3, \"cars\"))"
   ]
  },
  {
   "cell_type": "code",
   "execution_count": 28,
   "metadata": {},
   "outputs": [
    {
     "data": {
      "text/plain": [
       "'We were going nearly 130.2 km/hr. But there were 3 cars going faster!'"
      ]
     },
     "execution_count": 28,
     "metadata": {},
     "output_type": "execute_result"
    }
   ],
   "source": [
    "# format method\n",
    "\"We were going nearly {} km/hr. But there were {} {} going faster!\".format(130.2, 3, \"cars\")"
   ]
  }
 ],
 "metadata": {
  "anaconda-cloud": {},
  "kernelspec": {
   "display_name": "Python 3 (ipykernel)",
   "language": "python",
   "name": "python3"
  },
  "language_info": {
   "codemirror_mode": {
    "name": "ipython",
    "version": 3
   },
   "file_extension": ".py",
   "mimetype": "text/x-python",
   "name": "python",
   "nbconvert_exporter": "python",
   "pygments_lexer": "ipython3",
   "version": "3.9.10"
  }
 },
 "nbformat": 4,
 "nbformat_minor": 4
}
