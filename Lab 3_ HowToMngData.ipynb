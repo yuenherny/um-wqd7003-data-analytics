{
 "cells": [
  {
   "cell_type": "markdown",
   "metadata": {},
   "source": [
    "# How to manage data"
   ]
  },
  {
   "cell_type": "markdown",
   "metadata": {},
   "source": [
    "## List \n",
    "\n",
    "Well done so far! This is your introduction to structured data.\n",
    "\n",
    "Today, we're going to introduce the list data type, and\n",
    "lists are much more powerful than strings, so whereas for a string, all of the elements had to be characters, in a list, the elements can be anything we want. They could be characters. They could be strings. They could be numbers. They could also be other lists.\n",
    "\n",
    "Like a string, a **list** is a sequence of values. In a string, the values are characters; in a list, they can be any type. The values in list are called **elements** or sometimes **items**.\n",
    "\n",
    "List elements are written within square brackets [ ]. Square brackets [ ] access data, with the first element at index 0.  Many of the operations defined above for strings also apply to lists. So it can be convenient to think of a string simply as a list of characters."
   ]
  },
  {
   "cell_type": "code",
   "execution_count": 1,
   "metadata": {
    "tags": []
   },
   "outputs": [
    {
     "name": "stdout",
     "output_type": "stream",
     "text": [
      "red\n",
      "blue\n",
      "green\n",
      "\n",
      "True\n",
      "False\n",
      "\n",
      "7\n",
      "\n",
      "\n"
     ]
    }
   ],
   "source": [
    "colors = ['red', 'blue', 'green']\n",
    "print(colors[0])\n",
    "print(colors[1])\n",
    "print(colors[2])\n",
    "print(\"\")\n",
    "\n",
    "print('red' in colors)\n",
    "print('black' in colors)\n",
    "print(\"\")\n",
    "\n",
    "numbers = [5, 4, 3, 2, 1, 'hello', 2.3]\n",
    "print(len(numbers))\n",
    "\n",
    "print()\n",
    "list_of_lists = [[1,2,3],[4,5,6],[7,8,9]]\n",
    "print()\n",
    "\n",
    "\n",
    "# Empty list\n",
    "c = []"
   ]
  },
  {
   "cell_type": "code",
   "execution_count": 2,
   "metadata": {
    "tags": []
   },
   "outputs": [
    {
     "name": "stdout",
     "output_type": "stream",
     "text": [
      "[1, 2, 3, 5, 6, 0]\n",
      "[4, 5]\n"
     ]
    }
   ],
   "source": [
    "# Assignment with an = on lists does not make a copy. \n",
    "# Instead, assignment makes the two variables \n",
    "# point to the one list in memory.\n",
    "b = a = [1,2,3,5,6]\n",
    "a.append(0)\n",
    "a = [4,5]\n",
    "print(b)\n",
    "print(a)\n",
    "\n",
    "# Note: The above is true for all objects in Python, not only lists.\n",
    "# (We'll talk more about objects later)\n"
   ]
  },
  {
   "cell_type": "markdown",
   "metadata": {},
   "source": [
    "## Exercise 1: "
   ]
  },
  {
   "cell_type": "code",
   "execution_count": 4,
   "metadata": {
    "tags": []
   },
   "outputs": [
    {
     "data": {
      "text/plain": [
       "31"
      ]
     },
     "execution_count": 4,
     "metadata": {},
     "output_type": "execute_result"
    }
   ],
   "source": [
    "\n",
    "months = [\"January\", \"February\", \"March\", \"April\", \"May\", \"June\", \"July\",\\\n",
    "          \"August\", \"September\", \"October\", \"November\", \"December\"]\n",
    "days = [31,28,31,30,31,30,31,31,30,31,30,31]\n",
    "\n",
    "# Define a function that inputs a string with the month and returns the number \n",
    "# of days in that month.\n",
    "\n",
    "def month_day(month):\n",
    "    month_idx = months.index(month)\n",
    "    return days[month_idx]\n",
    "\n",
    "month_day('June')\n",
    "month_day('July')\n",
    "month_day('December')"
   ]
  },
  {
   "cell_type": "markdown",
   "metadata": {},
   "source": [
    "## Exercise 2:"
   ]
  },
  {
   "cell_type": "code",
   "execution_count": 18,
   "metadata": {
    "tags": []
   },
   "outputs": [
    {
     "name": "stdout",
     "output_type": "stream",
     "text": [
      "China  population is  46.55172413793103 bigger than Malaysia\n",
      "India  population is  41.724137931034484 bigger than Malaysia\n",
      "United States  population is  10.655172413793103 bigger than Malaysia\n"
     ]
    }
   ],
   "source": [
    "# Nested Lists Example, let's use population (thousands). \n",
    "countries = [['China','Beijing', 1350],\n",
    "             ['India','Delhi',1210],\n",
    "             ['United States','Washington DC', 309],\n",
    "             ['Malaysia','Kuala Lumpur',29]]\n",
    "\n",
    "# How many times bigger is the population of \n",
    "# China, India, and the US relative to Malaysia?\n",
    "\n",
    "for country in countries:\n",
    "    if country[0] == 'Malaysia':\n",
    "        break\n",
    "    \n",
    "    print(country[0], ' population is ', country[2] / countries[3][2], 'bigger than Malaysia')\n"
   ]
  },
  {
   "cell_type": "markdown",
   "metadata": {},
   "source": [
    "## Mutation"
   ]
  },
  {
   "cell_type": "code",
   "execution_count": 20,
   "metadata": {},
   "outputs": [
    {
     "name": "stdout",
     "output_type": "stream",
     "text": [
      "Hello!\n",
      "Hello\n",
      "H\n"
     ]
    }
   ],
   "source": [
    "# A big difference is strings can't mutate - they can't change the\n",
    "# existing object.\n",
    "s = 'Hello'\n",
    "print((s + '!'))\n",
    "print(s)\n",
    "print((s[0]))\n",
    "\n",
    "#String is immutable\n",
    "# s[0] = \"Y\""
   ]
  },
  {
   "cell_type": "code",
   "execution_count": 21,
   "metadata": {},
   "outputs": [
    {
     "name": "stdout",
     "output_type": "stream",
     "text": [
      "['Y', 'e', 'l', 'l', 'o']\n"
     ]
    }
   ],
   "source": [
    "# But Lists are mutable: once an object is mutable, then we\n",
    "# have to worry about other variables that might\n",
    "# refer to the same object. \n",
    "p = ['H','e','l','l','o']\n",
    "q = p\n",
    "p[0] = 'Y'\n",
    "print(q)"
   ]
  },
  {
   "cell_type": "code",
   "execution_count": 3,
   "metadata": {},
   "outputs": [
    {
     "name": "stdout",
     "output_type": "stream",
     "text": [
      "[4, 5, 6, 8, 9]\n",
      "[4, 5, 6, 8, 9, 0]\n",
      "[4, 5, 6, 8, 9, 0]\n"
     ]
    }
   ],
   "source": [
    "# Assignment with an = on lists does not make a copy. \n",
    "# Instead, assignment makes the two variables \n",
    "# point to the one list in memory.\n",
    "num = [4,5,6,8,9]\n",
    "b = num\n",
    "print (num)\n",
    "num.append(0)\n",
    "print (num)\n",
    "print (b)"
   ]
  },
  {
   "cell_type": "markdown",
   "metadata": {},
   "source": [
    "### List Methods\n",
    "\n",
    "- list.append(elem) -- adds a single element to the end of the list. Common error: does not return the new list, just modifies the original.\n",
    "- list.insert(index, elem) -- inserts the element at the given index, shifting elements to the right.\n",
    "- list.extend(list2) adds the elements in list2 to the end of the list. Using + or += on a list is similar to using extend().\n",
    "- list.index(elem) -- searches for the given element from the start of the list and returns its index. Throws a ValueError if the element does not appear (use \"in\" to check without a ValueError).\n",
    "- list.remove(elem) -- searches for the first instance of the given element and removes it (throws ValueError if not present)\n",
    "- list.sort() -- sorts the list in place (does not return it).\n",
    "- sorted(list) -- return sorted list but keeps the original order of the list\n",
    "- list.reverse() -- reverses the list in place (does not return it)\n",
    "- list.pop(index) -- removes and returns the element at the given index. Returns the rightmost element if index is omitted (roughly the opposite of append())."
   ]
  },
  {
   "cell_type": "code",
   "execution_count": 22,
   "metadata": {},
   "outputs": [
    {
     "name": "stdout",
     "output_type": "stream",
     "text": [
      "['red', 'green', 'blue']\n",
      "['red', 'green', 'blue', 'purple']\n",
      "['red', 'yellow', 'green', 'blue', 'purple']\n",
      "\n",
      "\n",
      "\n",
      "4\n",
      "['red', 'yellow', 'green', 'blue', 'purple', 'cyan']\n",
      "\n",
      "\n",
      "['blue', 'cyan', 'green', 'purple', 'red']\n",
      "\n",
      "['blue', 'cyan', 'green', 'purple', 'red']\n",
      "\n",
      "['red', 'purple', 'green', 'cyan', 'blue']\n",
      "\n",
      "['red', 'purple', 'green', 'cyan', 'blue']\n",
      "['red', 'purple', 'green', 'cyan']\n"
     ]
    }
   ],
   "source": [
    "colors = ['red', 'green', 'blue']\n",
    "print(colors)\n",
    "colors.append('purple')\n",
    "print(colors)\n",
    "colors.insert(1, 'yellow')\n",
    "print(colors)\n",
    "print()\n",
    "\n",
    "new_list = ['cyan', 'white']\n",
    "colors.extend(new_list)\n",
    "\n",
    "print() \n",
    "print()\n",
    "\n",
    "print((colors.index('purple')))\n",
    "colors.remove('white')\n",
    "print(colors)\n",
    "print()\n",
    "\n",
    "#use del \n",
    "del colors[1]\n",
    "print()\n",
    "\n",
    "colors.sort()\n",
    "print(colors)\n",
    "print()\n",
    "\n",
    "#colors.sort(reverse=True)\n",
    "\n",
    "print(colors)\n",
    "colors.reverse()\n",
    "print()\n",
    "\n",
    "#print colors.pop(1)\n",
    "\n",
    "print(colors)\n",
    "print()\n",
    "\n",
    "print((sorted(colors, reverse=True)))\n",
    "\n",
    "#pop\n",
    "colors.pop()\n",
    "print(colors)"
   ]
  },
  {
   "cell_type": "code",
   "execution_count": 23,
   "metadata": {},
   "outputs": [
    {
     "name": "stdout",
     "output_type": "stream",
     "text": [
      "['red', 'yellow', 'green', 'blue', 'purple', 'cyan']\n",
      "['blue', 'cyan', 'green', 'purple', 'red', 'yellow']\n"
     ]
    }
   ],
   "source": [
    "colors = ['red', 'yellow', 'green', 'blue', 'purple', 'cyan']\n",
    "print(colors)\n",
    "\n",
    "print((sorted(colors)))"
   ]
  },
  {
   "cell_type": "code",
   "execution_count": 24,
   "metadata": {},
   "outputs": [
    {
     "name": "stdout",
     "output_type": "stream",
     "text": [
      "False\n",
      "[1, 2, 3, 4, 5, 6]\n",
      "\n",
      "[1, 2, 3, 4, 5, 6, 7, 8]\n",
      "\n",
      "[1, 2, 3, 4, [5, 6]]\n"
     ]
    }
   ],
   "source": [
    "# If you run the following four lines of codes, what are list1 and list2?\n",
    "\n",
    "list1 = [1,2,3,4]\n",
    "list2 = [1,2,3,4]\n",
    "\n",
    "print(list1 is list2)\n",
    "\n",
    "list1 = list1 + [5, 6]\n",
    "print(list1)\n",
    "print()\n",
    "\n",
    "list1.extend([7,8])\n",
    "print(list1)\n",
    "print()\n",
    "\n",
    "list2.append([5, 6])\n",
    "print(list2)"
   ]
  },
  {
   "cell_type": "markdown",
   "metadata": {},
   "source": [
    "### List Slices\n",
    "\n",
    "Slices work on lists just as with strings, and can also be used to change sub-parts of the list."
   ]
  },
  {
   "cell_type": "code",
   "execution_count": 28,
   "metadata": {},
   "outputs": [
    {
     "name": "stdout",
     "output_type": "stream",
     "text": [
      "['BMW', 'Honda']\n",
      "['BMW', 'Honda', 'Benz', 'Isuzu', 'Volkswagen']\n",
      "['Toyota', 'BMW', 'Honda']\n"
     ]
    }
   ],
   "source": [
    "cars = ['Toyota', 'BMW', 'Honda', 'Benz', 'Isuzu', 'Volkswagen', 'Mazda']\n",
    "\n",
    "print(cars[1:3])\n",
    "print(cars[1:-1])\n",
    "print(cars[:3])"
   ]
  },
  {
   "cell_type": "code",
   "execution_count": 29,
   "metadata": {},
   "outputs": [
    {
     "name": "stdout",
     "output_type": "stream",
     "text": [
      "2400000000.0 [1, 0.5, 1] [12288.0, 0.001, 4.166666666666667e-10] [2199023255552, 10, 1.2e-08] [1125899906842624, 100, 0.007]\n"
     ]
    }
   ],
   "source": [
    "# How computers store data\n",
    "# Format: size of storage (in bits), cost ($), latency (seconds)\n",
    "processor_speed = 2.4e9\n",
    "lightbulb = [1,.50,1]\n",
    "register = [1.5*8*2**10,.001,1/processor_speed]\n",
    "ram = [2*2**40,10,12e-9]\n",
    "hard_disk = [2**50,100, 0.007]\n",
    "print(processor_speed,lightbulb,register,ram,hard_disk)"
   ]
  },
  {
   "cell_type": "markdown",
   "metadata": {},
   "source": [
    "### For & In (Or Loops on Lists)\n",
    "\n",
    "Python's *for* and *in* constructs are extremely useful, and the first use of them we'll see is with lists. The *for* construct -- for var in list -- is an easy way to look at each element in a list (or other collection)."
   ]
  },
  {
   "cell_type": "code",
   "execution_count": 30,
   "metadata": {},
   "outputs": [
    {
     "name": "stdout",
     "output_type": "stream",
     "text": [
      "1\n",
      "2\n",
      "3\n",
      "4\n",
      "5\n"
     ]
    }
   ],
   "source": [
    "# Loop through a list using while\n",
    "\n",
    "a = [1,2,3,4,5]\n",
    "i = 0\n",
    "len_a = len(a)\n",
    "while i < len_a:\n",
    "    print((a[i]))\n",
    "    i  +=1"
   ]
  },
  {
   "cell_type": "code",
   "execution_count": 31,
   "metadata": {},
   "outputs": [
    {
     "name": "stdout",
     "output_type": "stream",
     "text": [
      "1\n",
      "2\n",
      "3\n",
      "4\n",
      "7\n",
      "8\n",
      "9\n",
      "10\n"
     ]
    }
   ],
   "source": [
    "# Syntax of for and in:\n",
    "\n",
    "# for each_element in a_list:\n",
    "    #Iterate through each element\n",
    "    #and run this code on each element\n",
    "    #where  each_element refers to the item.\n",
    "\n",
    "b = [1,2,3,4,7,8,9,10]\n",
    "for items in b:\n",
    "    print(items)\n",
    "    "
   ]
  },
  {
   "cell_type": "code",
   "execution_count": 32,
   "metadata": {},
   "outputs": [
    {
     "name": "stdout",
     "output_type": "stream",
     "text": [
      "<class 'list'>\n",
      "['red', 'yellow', 'green', 'blue', 'purple', 'cyan']\n",
      "red\n",
      "Red\n",
      "\n",
      "yellow\n",
      "Yellow\n",
      "\n",
      "green\n",
      "Green\n",
      "\n",
      "blue\n",
      "Blue\n",
      "\n",
      "purple\n",
      "Purple\n",
      "\n",
      "cyan\n",
      "Cyan\n",
      "\n"
     ]
    }
   ],
   "source": [
    "print((type(colors)))\n",
    "print(colors) \n",
    "\n",
    "for color in colors:\n",
    "    print(color)\n",
    "    print((color.title()))\n",
    "    print()"
   ]
  },
  {
   "cell_type": "markdown",
   "metadata": {},
   "source": [
    "## Exercise 3: "
   ]
  },
  {
   "cell_type": "code",
   "execution_count": 36,
   "metadata": {
    "tags": []
   },
   "outputs": [
    {
     "data": {
      "text/plain": [
       "55"
      ]
     },
     "execution_count": 36,
     "metadata": {},
     "output_type": "execute_result"
    }
   ],
   "source": [
    "# Define sum_list.\n",
    "\n",
    "def sum_list(your_list):\n",
    "    ##your code here##\n",
    "    total = 0\n",
    "    for num in your_list:\n",
    "        total += num\n",
    "    return total\n",
    "\n",
    "squares = [1, 4, 9, 16, 25]\n",
    "sum_list(squares)"
   ]
  },
  {
   "cell_type": "markdown",
   "metadata": {},
   "source": [
    "## Exercise 4:"
   ]
  },
  {
   "cell_type": "code",
   "execution_count": 37,
   "metadata": {
    "tags": []
   },
   "outputs": [
    {
     "data": {
      "text/plain": [
       "'Not found!'"
      ]
     },
     "execution_count": 37,
     "metadata": {},
     "output_type": "execute_result"
    }
   ],
   "source": [
    "# Write a function to find whether a number appear in a list\n",
    "# Return \"Found!\" or \"Not found!\"\n",
    "\n",
    "def find(num, li):\n",
    "    ##your code here##\n",
    "    return 'Found!' if num in li else 'Not found!'\n",
    "        \n",
    "find(10, list(range(100)))\n",
    "find(250, list(range(100)))"
   ]
  },
  {
   "cell_type": "code",
   "execution_count": 38,
   "metadata": {
    "tags": []
   },
   "outputs": [
    {
     "data": {
      "text/plain": [
       "'Not found!'"
      ]
     },
     "execution_count": 38,
     "metadata": {},
     "output_type": "execute_result"
    }
   ],
   "source": [
    "#try with longer lists\n",
    "find(999999, list(range(1000000)))\n",
    "find('ah', list(range(1000000)))"
   ]
  },
  {
   "cell_type": "markdown",
   "metadata": {},
   "source": [
    "## Exercise 5: "
   ]
  },
  {
   "cell_type": "code",
   "execution_count": 54,
   "metadata": {
    "tags": []
   },
   "outputs": [
    {
     "data": {
      "text/plain": [
       "[7, 25, 27]"
      ]
     },
     "execution_count": 54,
     "metadata": {},
     "output_type": "execute_result"
    }
   ],
   "source": [
    "# Define a function that print the list of a specified list after\n",
    "# removing even numbers from it\n",
    "\n",
    "num = [7,8, 120, 25, 44, 20, 27]\n",
    "def remove_even(x):\n",
    "    ##your code here##\n",
    "    not_even = [number for number in x if number %2 != 0]\n",
    "    \n",
    "    return not_even\n",
    "\n",
    "remove_even(num) \n"
   ]
  },
  {
   "cell_type": "code",
   "execution_count": 51,
   "metadata": {
    "tags": []
   },
   "outputs": [
    {
     "data": {
      "text/plain": [
       "{'Apple', 'Banana', 'Durian', 'Orange'}"
      ]
     },
     "execution_count": 51,
     "metadata": {},
     "output_type": "execute_result"
    }
   ],
   "source": [
    "# Define a function that gives the union of lists.\n",
    "\n",
    "a = ['Orange','Banana','Apple']\n",
    "b = ['Banana', 'Orange','Durian']\n",
    "\n",
    "def union_of_lists(seta,setb):\n",
    "    return set().union(seta,setb)\n",
    "\n",
    "union_of_lists(a,b)"
   ]
  },
  {
   "cell_type": "code",
   "execution_count": null,
   "metadata": {
    "collapsed": true,
    "jupyter": {
     "outputs_hidden": true
    }
   },
   "outputs": [],
   "source": [
    "# Pop quiz~! (list.pop)\n"
   ]
  },
  {
   "cell_type": "markdown",
   "metadata": {},
   "source": [
    "### Enumerate\n",
    "\n",
    "To find out the index of the item in the loop we can use list.index(elem), but there is another way to do this using enumerate().\n"
   ]
  },
  {
   "cell_type": "code",
   "execution_count": 55,
   "metadata": {
    "tags": []
   },
   "outputs": [
    {
     "name": "stdout",
     "output_type": "stream",
     "text": [
      "Index of happy is: 0\n",
      "Index of sad is: 1\n",
      "Index of angry is: 2\n",
      "0 happy\n",
      "1 sad\n",
      "2 angry\n"
     ]
    }
   ],
   "source": [
    "my_list = ['happy', 'sad', 'angry']\n",
    "\n",
    "index_counter = 0\n",
    "for entry in my_list:\n",
    "    print(\"Index of %s is: %s\" %(entry, index_counter))\n",
    "    index_counter += 1\n",
    "\n",
    "# Here we use another built-in function list([iterable]) \n",
    "# which returns a list whose items are the same and\n",
    "# in the same order as iterable‘s items).\n",
    "\n",
    "list(enumerate(my_list))\n",
    "\n",
    "for i, element in enumerate(my_list):\n",
    "    print(i, element)"
   ]
  },
  {
   "cell_type": "code",
   "execution_count": 56,
   "metadata": {
    "tags": []
   },
   "outputs": [
    {
     "name": "stdout",
     "output_type": "stream",
     "text": [
      "1 ['happy', 'sad', 'angry']\n",
      "2 ['happy', 'sad', 'angry']\n",
      "3 ['happy', 'sad', 'angry']\n"
     ]
    }
   ],
   "source": [
    "# We may easily change the start count/index with help of enumerate(sequence, start=0)\n",
    "for index, item in enumerate(my_list, start = 1):\n",
    "    print(index, my_list)"
   ]
  },
  {
   "cell_type": "markdown",
   "metadata": {},
   "source": [
    "### Range\n",
    "\n",
    "The range(n) function yields the numbers 0, 1, ... n-1, and range(a, b) returns a, a+1, ... b-1 -- up to but not including the last number. "
   ]
  },
  {
   "cell_type": "code",
   "execution_count": 57,
   "metadata": {
    "tags": []
   },
   "outputs": [
    {
     "name": "stdout",
     "output_type": "stream",
     "text": [
      "[100, 101, 102, 103, 104, 105, 106, 107, 108, 109]\n",
      "[0, 1, 2, 3, 4]\n",
      "0\n",
      "1\n",
      "2\n",
      "3\n",
      "4\n",
      "\n",
      "1\n",
      "4\n",
      "9\n",
      "16\n",
      "25\n",
      "1\n",
      "4\n",
      "9\n",
      "16\n",
      "25\n"
     ]
    }
   ],
   "source": [
    "square =[1,4,9,16,25]\n",
    "\n",
    "a = list(range(100, 110))\n",
    "print(a)\n",
    "\n",
    "b = list(range(5))\n",
    "print(b)\n",
    "\n",
    "for i in range(5):\n",
    "    print(i)\n",
    "    \n",
    "print()\n",
    "for i in range(len(squares)):\n",
    "    print((squares[i]))\n",
    "    \n",
    "for square in squares:\n",
    "    print(square)\n"
   ]
  },
  {
   "cell_type": "code",
   "execution_count": 77,
   "metadata": {
    "tags": []
   },
   "outputs": [
    {
     "data": {
      "text/plain": [
       "['Green', 'White', 'Yellow']"
      ]
     },
     "execution_count": 77,
     "metadata": {},
     "output_type": "execute_result"
    }
   ],
   "source": [
    "# Write a function program to print a specified list\n",
    "# after removing the 0th, 3rd and 4th items\n",
    "\n",
    "my_list= ['Red', 'Green', 'White', 'Black', 'Pink', 'Yellow']\n",
    "\n",
    "def remove_list(list1):\n",
    "    ##your code here##\n",
    "    output = []\n",
    "    for i, elem in enumerate(list1):\n",
    "#         print(i, elem)\n",
    "        if i == 0 or i == 3 or i == 4:\n",
    "            continue\n",
    "        else:\n",
    "            output.append(elem)\n",
    "#             print(output)\n",
    "            \n",
    "    return output\n",
    "\n",
    "remove_list(my_list)"
   ]
  },
  {
   "cell_type": "markdown",
   "metadata": {},
   "source": [
    "## Lambda\n",
    "\n",
    "Python supports the creation of anonymous functions (i.e. functions that are not bound to a name) at runtime, using a construct called \"lambda\".\n",
    "\n",
    "Normal python function:\n",
    "```python\n",
    "def f (x):\n",
    "    return x**2\n",
    "\n",
    "f(8)\n",
    "```\n",
    "while for lambda:\n",
    "\n",
    "```python\n",
    "g = lambda x: x**2\n",
    "print(g(8))\n",
    "```\n",
    "Lambda functions are mainly used in combination with the functions filter() and map()."
   ]
  },
  {
   "cell_type": "code",
   "execution_count": 78,
   "metadata": {
    "tags": []
   },
   "outputs": [
    {
     "data": {
      "text/plain": [
       "5"
      ]
     },
     "execution_count": 78,
     "metadata": {},
     "output_type": "execute_result"
    }
   ],
   "source": [
    "f = lambda x, y : x + y\n",
    "\n",
    "f(2,3)"
   ]
  },
  {
   "cell_type": "code",
   "execution_count": 79,
   "metadata": {
    "tags": []
   },
   "outputs": [
    {
     "name": "stdout",
     "output_type": "stream",
     "text": [
      "['It', 'is', 'raining', 'cats', 'and', 'dogs']\n",
      "2\n",
      "2\n",
      "7\n",
      "4\n",
      "3\n",
      "4\n",
      "[2, 2, 7, 4, 3, 4]\n",
      "[2, 6, 8]\n",
      "[4, 9, 25, 36, 49, 64]\n"
     ]
    }
   ],
   "source": [
    "#lambda examples\n",
    "\n",
    "# example 1\n",
    "sentence = 'It is raining cats and dogs'\n",
    "\n",
    "word=sentence.split()\n",
    "print(word)\n",
    "for i in word: \n",
    "    count=len(i)\n",
    "    print(count)\n",
    "\n",
    "g=map(lambda num: len(num), word)\n",
    "print(list(g))\n",
    "\n",
    "# example 2\n",
    "a = [2,3,5,6,7,8]\n",
    "\n",
    "def power(a):\n",
    "    return a**2\n",
    "\n",
    "# filter ()\n",
    "h=filter(lambda num1: num1%2==0, a)\n",
    "print(list(h))\n",
    "\n",
    "# map()\n",
    "h = map(lambda num1: power(num1), a)\n",
    "print(list(h))"
   ]
  },
  {
   "cell_type": "markdown",
   "metadata": {},
   "source": [
    "### List Comprehensions\n",
    "\n",
    "A list comprehension is a compact expression to define a whole set.  It can be used to construct lists in a very natural, easy way, like a mathematician is used to do. \n",
    "\n",
    "The following comprehension says \"For each item in numbers, square it and add it to a new list squares.\"\n",
    "\n",
    "While we could also do this using a for-loop, it's often more convenient to use a list comprehension.\n",
    "\n",
    "```python\n",
    "for element in iterable:\n",
    "     if condition(element): \n",
    "        output.append(expression(element))\n",
    "```\n",
    "\n",
    "The same gets implemented in a simple LC construct in a single line as:\n",
    "```python\n",
    "[ expression(element) for element in iterable if condition(element) ]\n",
    "```\n"
   ]
  },
  {
   "cell_type": "code",
   "execution_count": 80,
   "metadata": {
    "tags": []
   },
   "outputs": [
    {
     "name": "stdout",
     "output_type": "stream",
     "text": [
      "[1, 4, 9, 16, 25, 36, 49, 64]\n",
      "[1, 4, 9, 16, 25, 36, 49, 64]\n"
     ]
    }
   ],
   "source": [
    "# without list comprehension\n",
    "numbers = [1, 2, 3, 4, 5, 6, 7, 8]\n",
    "\n",
    "squares = []\n",
    "for n in numbers:\n",
    "    squares.append(n*n)\n",
    "print(squares)\n",
    "\n",
    "# with list comprehension\n",
    "squares = [n*n for n in numbers]\n",
    "print(squares)"
   ]
  },
  {
   "cell_type": "code",
   "execution_count": 81,
   "metadata": {
    "tags": []
   },
   "outputs": [
    {
     "name": "stdout",
     "output_type": "stream",
     "text": [
      "[1, 4, 9, 16, 25]\n"
     ]
    }
   ],
   "source": [
    "numbers = [1, 2, 3, 4, 5, 6, 7, 8]\n",
    "\n",
    "squaresUnderFive = [n*n for n in numbers if n <= 5]\n",
    "\n",
    "print(squaresUnderFive)"
   ]
  },
  {
   "cell_type": "code",
   "execution_count": 82,
   "metadata": {
    "tags": []
   },
   "outputs": [
    {
     "name": "stdout",
     "output_type": "stream",
     "text": [
      "[32, 50]\n"
     ]
    }
   ],
   "source": [
    "print([s*2 for s in squaresUnderFive if s > 10])"
   ]
  },
  {
   "cell_type": "code",
   "execution_count": 83,
   "metadata": {
    "tags": []
   },
   "outputs": [
    {
     "name": "stdout",
     "output_type": "stream",
     "text": [
      "['BANANA!!!', 'APPLE!!!', 'MANGO!!!']\n"
     ]
    }
   ],
   "source": [
    "# An example of a list comprehension with strings\n",
    "fruits = ['banana', 'apple', 'cherry', 'lime', 'mango']\n",
    "\n",
    "my_list = [s.upper() + '!!!' for s in fruits if 'a' in s]\n",
    "\n",
    "print(my_list)"
   ]
  },
  {
   "cell_type": "markdown",
   "metadata": {},
   "source": [
    "### Exercise\n",
    "Write one line of Python that takes this list a and makes a new list that has only the odd  elements and power it with 3"
   ]
  },
  {
   "cell_type": "code",
   "execution_count": 85,
   "metadata": {
    "tags": []
   },
   "outputs": [
    {
     "name": "stdout",
     "output_type": "stream",
     "text": [
      "[1, 729, 15625, 117649, 531441]\n"
     ]
    }
   ],
   "source": [
    "# Write one line of Python that takes this list a\n",
    "# and makes a new list that has only the odd \n",
    "# elements and power it with 3\n",
    "\n",
    "a = [1, 4, 9, 16, 25, 36, 49, 64, 81, 100]\n",
    "b = [num**3 for num in a if num % 2 != 0] ##your code here##\n",
    "print(b)"
   ]
  },
  {
   "cell_type": "markdown",
   "metadata": {},
   "source": [
    "### Del\n",
    "\n",
    "The \"del\" operator does deletions. In the simplest case, it can remove the definition of a variable, as if that variable had not been defined. Del can also be used on list elements or slices to delete that part of the list and to delete entries from a dictionary."
   ]
  },
  {
   "cell_type": "code",
   "execution_count": 86,
   "metadata": {
    "tags": []
   },
   "outputs": [
    {
     "name": "stdout",
     "output_type": "stream",
     "text": [
      "['b']\n"
     ]
    }
   ],
   "source": [
    "var = 6\n",
    "del var  # var no more!\n",
    "\n",
    "my_list = ['a', 'b', 'c', 'd']\n",
    "del my_list[0]     ## Delete first element\n",
    "del my_list[-2:]   ## Delete last two elements\n",
    "print(my_list)      ## ['b']"
   ]
  },
  {
   "cell_type": "markdown",
   "metadata": {},
   "source": [
    "## Tuples\n",
    "\n",
    "A tuple is a fixed size grouping of elements, such as an (x, y) co-ordinate. Tuples are like lists, except they are immutable and do not change size (tuples are not strictly immutable since one of the contained elements could be mutable). Tuples are a convenient way to pass around a little logical, fixed size bundle of values. A function that needs to return multiple values can just return a tuple of the values."
   ]
  },
  {
   "cell_type": "code",
   "execution_count": 87,
   "metadata": {
    "tags": []
   },
   "outputs": [
    {
     "name": "stdout",
     "output_type": "stream",
     "text": [
      "<class 'tuple'>\n",
      "4\n",
      "hi\n",
      "('hike', 13)\n"
     ]
    }
   ],
   "source": [
    "tup = (1, 2.3, 'hi', ['hi'])\n",
    "print(type(tup))\n",
    "print((len(tup)))\n",
    "\n",
    "print((tup[2]))\n",
    "\n",
    "#tup[2] = 'bye' # tuple element cannot be changed\n",
    "tup = (1, 2, 'bye')\n",
    "\n",
    "x,y,z = (42, 13, \"hike\")\n",
    "\n",
    "list2 = [1,2,3]\n",
    "\n",
    "print((z, y))"
   ]
  }
 ],
 "metadata": {
  "anaconda-cloud": {},
  "kernelspec": {
   "display_name": "Python 3 (ipykernel)",
   "language": "python",
   "name": "python3"
  },
  "language_info": {
   "codemirror_mode": {
    "name": "ipython",
    "version": 3
   },
   "file_extension": ".py",
   "mimetype": "text/x-python",
   "name": "python",
   "nbconvert_exporter": "python",
   "pygments_lexer": "ipython3",
   "version": "3.9.10"
  }
 },
 "nbformat": 4,
 "nbformat_minor": 4
}
